{
 "cells": [
  {
   "cell_type": "code",
   "execution_count": 1,
   "metadata": {},
   "outputs": [],
   "source": [
    "#  Mayorov Igor"
   ]
  },
  {
   "cell_type": "code",
   "execution_count": 2,
   "metadata": {},
   "outputs": [],
   "source": [
    "# Устанавливаем все необходимые библиотеки для начала работы.\n",
    "import numpy as np\n",
    "import matplotlib.pyplot as plt\n",
    "import pandas as pd"
   ]
  },
  {
   "cell_type": "code",
   "execution_count": 3,
   "metadata": {},
   "outputs": [],
   "source": [
    "# Загружаем наш датасет\n",
    "mk = pd.read_csv('mywork.csv', sep=',')\n"
   ]
  },
  {
   "cell_type": "code",
   "execution_count": 4,
   "metadata": {},
   "outputs": [
    {
     "data": {
      "text/html": [
       "<div>\n",
       "<style scoped>\n",
       "    .dataframe tbody tr th:only-of-type {\n",
       "        vertical-align: middle;\n",
       "    }\n",
       "\n",
       "    .dataframe tbody tr th {\n",
       "        vertical-align: top;\n",
       "    }\n",
       "\n",
       "    .dataframe thead th {\n",
       "        text-align: right;\n",
       "    }\n",
       "</style>\n",
       "<table border=\"1\" class=\"dataframe\">\n",
       "  <thead>\n",
       "    <tr style=\"text-align: right;\">\n",
       "      <th></th>\n",
       "      <th>totsp</th>\n",
       "      <th>livesp</th>\n",
       "      <th>kitsp</th>\n",
       "      <th>dist</th>\n",
       "      <th>metrdist</th>\n",
       "      <th>floor</th>\n",
       "      <th>price</th>\n",
       "    </tr>\n",
       "  </thead>\n",
       "  <tbody>\n",
       "    <tr>\n",
       "      <th>0</th>\n",
       "      <td>58</td>\n",
       "      <td>40</td>\n",
       "      <td>6.0</td>\n",
       "      <td>12.5</td>\n",
       "      <td>7</td>\n",
       "      <td>10</td>\n",
       "      <td>81</td>\n",
       "    </tr>\n",
       "    <tr>\n",
       "      <th>1</th>\n",
       "      <td>44</td>\n",
       "      <td>28</td>\n",
       "      <td>6.0</td>\n",
       "      <td>13.5</td>\n",
       "      <td>7</td>\n",
       "      <td>2</td>\n",
       "      <td>75</td>\n",
       "    </tr>\n",
       "    <tr>\n",
       "      <th>2</th>\n",
       "      <td>70</td>\n",
       "      <td>42</td>\n",
       "      <td>6.0</td>\n",
       "      <td>14.5</td>\n",
       "      <td>3</td>\n",
       "      <td>7</td>\n",
       "      <td>128</td>\n",
       "    </tr>\n",
       "    <tr>\n",
       "      <th>3</th>\n",
       "      <td>61</td>\n",
       "      <td>37</td>\n",
       "      <td>6.0</td>\n",
       "      <td>13.5</td>\n",
       "      <td>7</td>\n",
       "      <td>12</td>\n",
       "      <td>95</td>\n",
       "    </tr>\n",
       "    <tr>\n",
       "      <th>4</th>\n",
       "      <td>104</td>\n",
       "      <td>60</td>\n",
       "      <td>11.0</td>\n",
       "      <td>10.5</td>\n",
       "      <td>7</td>\n",
       "      <td>15</td>\n",
       "      <td>330</td>\n",
       "    </tr>\n",
       "    <tr>\n",
       "      <th>...</th>\n",
       "      <td>...</td>\n",
       "      <td>...</td>\n",
       "      <td>...</td>\n",
       "      <td>...</td>\n",
       "      <td>...</td>\n",
       "      <td>...</td>\n",
       "      <td>...</td>\n",
       "    </tr>\n",
       "    <tr>\n",
       "      <th>2035</th>\n",
       "      <td>77</td>\n",
       "      <td>45</td>\n",
       "      <td>10.0</td>\n",
       "      <td>12.0</td>\n",
       "      <td>5</td>\n",
       "      <td>1</td>\n",
       "      <td>110</td>\n",
       "    </tr>\n",
       "    <tr>\n",
       "      <th>2036</th>\n",
       "      <td>60</td>\n",
       "      <td>43</td>\n",
       "      <td>6.0</td>\n",
       "      <td>9.0</td>\n",
       "      <td>5</td>\n",
       "      <td>1</td>\n",
       "      <td>95</td>\n",
       "    </tr>\n",
       "    <tr>\n",
       "      <th>2037</th>\n",
       "      <td>60</td>\n",
       "      <td>46</td>\n",
       "      <td>5.0</td>\n",
       "      <td>10.5</td>\n",
       "      <td>5</td>\n",
       "      <td>1</td>\n",
       "      <td>95</td>\n",
       "    </tr>\n",
       "    <tr>\n",
       "      <th>2038</th>\n",
       "      <td>76</td>\n",
       "      <td>48</td>\n",
       "      <td>10.0</td>\n",
       "      <td>12.5</td>\n",
       "      <td>5</td>\n",
       "      <td>1</td>\n",
       "      <td>129</td>\n",
       "    </tr>\n",
       "    <tr>\n",
       "      <th>2039</th>\n",
       "      <td>64</td>\n",
       "      <td>45</td>\n",
       "      <td>7.0</td>\n",
       "      <td>15.5</td>\n",
       "      <td>5</td>\n",
       "      <td>1</td>\n",
       "      <td>103</td>\n",
       "    </tr>\n",
       "  </tbody>\n",
       "</table>\n",
       "<p>2040 rows × 7 columns</p>\n",
       "</div>"
      ],
      "text/plain": [
       "      totsp  livesp  kitsp  dist  metrdist  floor  price\n",
       "0        58      40    6.0  12.5         7     10     81\n",
       "1        44      28    6.0  13.5         7      2     75\n",
       "2        70      42    6.0  14.5         3      7    128\n",
       "3        61      37    6.0  13.5         7     12     95\n",
       "4       104      60   11.0  10.5         7     15    330\n",
       "...     ...     ...    ...   ...       ...    ...    ...\n",
       "2035     77      45   10.0  12.0         5      1    110\n",
       "2036     60      43    6.0   9.0         5      1     95\n",
       "2037     60      46    5.0  10.5         5      1     95\n",
       "2038     76      48   10.0  12.5         5      1    129\n",
       "2039     64      45    7.0  15.5         5      1    103\n",
       "\n",
       "[2040 rows x 7 columns]"
      ]
     },
     "execution_count": 4,
     "metadata": {},
     "output_type": "execute_result"
    }
   ],
   "source": [
    "# Смотрим что было загружено в переменную.\n",
    "mk"
   ]
  },
  {
   "cell_type": "code",
   "execution_count": 5,
   "metadata": {},
   "outputs": [
    {
     "data": {
      "text/html": [
       "<div>\n",
       "<style scoped>\n",
       "    .dataframe tbody tr th:only-of-type {\n",
       "        vertical-align: middle;\n",
       "    }\n",
       "\n",
       "    .dataframe tbody tr th {\n",
       "        vertical-align: top;\n",
       "    }\n",
       "\n",
       "    .dataframe thead th {\n",
       "        text-align: right;\n",
       "    }\n",
       "</style>\n",
       "<table border=\"1\" class=\"dataframe\">\n",
       "  <thead>\n",
       "    <tr style=\"text-align: right;\">\n",
       "      <th></th>\n",
       "      <th>totsp</th>\n",
       "      <th>livesp</th>\n",
       "      <th>kitsp</th>\n",
       "      <th>dist</th>\n",
       "      <th>metrdist</th>\n",
       "      <th>floor</th>\n",
       "      <th>price</th>\n",
       "    </tr>\n",
       "  </thead>\n",
       "  <tbody>\n",
       "    <tr>\n",
       "      <th>count</th>\n",
       "      <td>2040.000000</td>\n",
       "      <td>2040.000000</td>\n",
       "      <td>2040.000000</td>\n",
       "      <td>2040.000000</td>\n",
       "      <td>2040.000000</td>\n",
       "      <td>2040.000000</td>\n",
       "      <td>2040.000000</td>\n",
       "    </tr>\n",
       "    <tr>\n",
       "      <th>mean</th>\n",
       "      <td>73.084314</td>\n",
       "      <td>46.337255</td>\n",
       "      <td>8.898529</td>\n",
       "      <td>11.015686</td>\n",
       "      <td>8.117157</td>\n",
       "      <td>1.326471</td>\n",
       "      <td>127.496569</td>\n",
       "    </tr>\n",
       "    <tr>\n",
       "      <th>std</th>\n",
       "      <td>15.123450</td>\n",
       "      <td>7.894348</td>\n",
       "      <td>2.787073</td>\n",
       "      <td>3.375539</td>\n",
       "      <td>3.815574</td>\n",
       "      <td>2.323365</td>\n",
       "      <td>51.878220</td>\n",
       "    </tr>\n",
       "    <tr>\n",
       "      <th>min</th>\n",
       "      <td>44.000000</td>\n",
       "      <td>28.000000</td>\n",
       "      <td>5.000000</td>\n",
       "      <td>3.000000</td>\n",
       "      <td>1.000000</td>\n",
       "      <td>0.000000</td>\n",
       "      <td>50.000000</td>\n",
       "    </tr>\n",
       "    <tr>\n",
       "      <th>25%</th>\n",
       "      <td>62.000000</td>\n",
       "      <td>42.000000</td>\n",
       "      <td>7.000000</td>\n",
       "      <td>9.000000</td>\n",
       "      <td>5.000000</td>\n",
       "      <td>1.000000</td>\n",
       "      <td>95.000000</td>\n",
       "    </tr>\n",
       "    <tr>\n",
       "      <th>50%</th>\n",
       "      <td>73.500000</td>\n",
       "      <td>45.000000</td>\n",
       "      <td>9.000000</td>\n",
       "      <td>12.000000</td>\n",
       "      <td>7.000000</td>\n",
       "      <td>1.000000</td>\n",
       "      <td>115.000000</td>\n",
       "    </tr>\n",
       "    <tr>\n",
       "      <th>75%</th>\n",
       "      <td>79.000000</td>\n",
       "      <td>50.000000</td>\n",
       "      <td>10.000000</td>\n",
       "      <td>13.500000</td>\n",
       "      <td>10.000000</td>\n",
       "      <td>1.000000</td>\n",
       "      <td>142.000000</td>\n",
       "    </tr>\n",
       "    <tr>\n",
       "      <th>max</th>\n",
       "      <td>192.000000</td>\n",
       "      <td>102.000000</td>\n",
       "      <td>25.000000</td>\n",
       "      <td>17.000000</td>\n",
       "      <td>20.000000</td>\n",
       "      <td>16.000000</td>\n",
       "      <td>730.000000</td>\n",
       "    </tr>\n",
       "  </tbody>\n",
       "</table>\n",
       "</div>"
      ],
      "text/plain": [
       "             totsp       livesp        kitsp         dist     metrdist  \\\n",
       "count  2040.000000  2040.000000  2040.000000  2040.000000  2040.000000   \n",
       "mean     73.084314    46.337255     8.898529    11.015686     8.117157   \n",
       "std      15.123450     7.894348     2.787073     3.375539     3.815574   \n",
       "min      44.000000    28.000000     5.000000     3.000000     1.000000   \n",
       "25%      62.000000    42.000000     7.000000     9.000000     5.000000   \n",
       "50%      73.500000    45.000000     9.000000    12.000000     7.000000   \n",
       "75%      79.000000    50.000000    10.000000    13.500000    10.000000   \n",
       "max     192.000000   102.000000    25.000000    17.000000    20.000000   \n",
       "\n",
       "             floor        price  \n",
       "count  2040.000000  2040.000000  \n",
       "mean      1.326471   127.496569  \n",
       "std       2.323365    51.878220  \n",
       "min       0.000000    50.000000  \n",
       "25%       1.000000    95.000000  \n",
       "50%       1.000000   115.000000  \n",
       "75%       1.000000   142.000000  \n",
       "max      16.000000   730.000000  "
      ]
     },
     "execution_count": 5,
     "metadata": {},
     "output_type": "execute_result"
    }
   ],
   "source": [
    "# Смотрим статистику нашего датасета\n",
    "mk.describe()"
   ]
  },
  {
   "cell_type": "code",
   "execution_count": 6,
   "metadata": {},
   "outputs": [
    {
     "data": {
      "text/plain": [
       "<matplotlib.axes._subplots.AxesSubplot at 0x1f151a420a0>"
      ]
     },
     "execution_count": 6,
     "metadata": {},
     "output_type": "execute_result"
    },
    {
     "data": {
      "image/png": "[encoded data removed]",
      "text/plain": [
       "<Figure size 432x288 with 1 Axes>"
      ]
     },
     "metadata": {
      "needs_background": "light"
     },
     "output_type": "display_data"
    }
   ],
   "source": [
    "# Построим гистаграмы по каждой из переменных\n",
    "mk['price'].plot(kind = 'hist')"
   ]
  },
  {
   "cell_type": "code",
   "execution_count": 7,
   "metadata": {},
   "outputs": [
    {
     "data": {
      "text/plain": [
       "<matplotlib.axes._subplots.AxesSubplot at 0x1f151b20250>"
      ]
     },
     "execution_count": 7,
     "metadata": {},
     "output_type": "execute_result"
    },
    {
     "data": {
      "image/png": "[encoded data removed]",
      "text/plain": [
       "<Figure size 432x288 with 1 Axes>"
      ]
     },
     "metadata": {
      "needs_background": "light"
     },
     "output_type": "display_data"
    }
   ],
   "source": [
    "mk['totsp'].plot(kind = 'hist')"
   ]
  },
  {
   "cell_type": "code",
   "execution_count": 8,
   "metadata": {},
   "outputs": [
    {
     "data": {
      "text/plain": [
       "<matplotlib.axes._subplots.AxesSubplot at 0x1f151ba72b0>"
      ]
     },
     "execution_count": 8,
     "metadata": {},
     "output_type": "execute_result"
    },
    {
     "data": {
      "image/png": "[encoded data removed]",
      "text/plain": [
       "<Figure size 432x288 with 1 Axes>"
      ]
     },
     "metadata": {
      "needs_background": "light"
     },
     "output_type": "display_data"
    }
   ],
   "source": [
    "mk['livesp'].plot(kind = 'hist')"
   ]
  },
  {
   "cell_type": "code",
   "execution_count": 9,
   "metadata": {},
   "outputs": [
    {
     "data": {
      "text/plain": [
       "<matplotlib.axes._subplots.AxesSubplot at 0x1f15139cd30>"
      ]
     },
     "execution_count": 9,
     "metadata": {},
     "output_type": "execute_result"
    },
    {
     "data": {
      "image/png": "[encoded data removed]",
      "text/plain": [
       "<Figure size 432x288 with 1 Axes>"
      ]
     },
     "metadata": {
      "needs_background": "light"
     },
     "output_type": "display_data"
    }
   ],
   "source": [
    "mk['kitsp'].plot(kind = 'hist')"
   ]
  },
  {
   "cell_type": "code",
   "execution_count": 10,
   "metadata": {},
   "outputs": [
    {
     "data": {
      "text/plain": [
       "<matplotlib.axes._subplots.AxesSubplot at 0x1f151c8e5e0>"
      ]
     },
     "execution_count": 10,
     "metadata": {},
     "output_type": "execute_result"
    },
    {
     "data": {
      "image/png": "[encoded data removed]",
      "text/plain": [
       "<Figure size 432x288 with 1 Axes>"
      ]
     },
     "metadata": {
      "needs_background": "light"
     },
     "output_type": "display_data"
    }
   ],
   "source": [
    "mk['dist'].plot(kind = 'hist')"
   ]
  },
  {
   "cell_type": "code",
   "execution_count": 11,
   "metadata": {
    "scrolled": false
   },
   "outputs": [
    {
     "data": {
      "text/plain": [
       "<matplotlib.axes._subplots.AxesSubplot at 0x1f151cfa130>"
      ]
     },
     "execution_count": 11,
     "metadata": {},
     "output_type": "execute_result"
    },
    {
     "data": {
      "image/png": "[encoded data removed]",
      "text/plain": [
       "<Figure size 432x288 with 1 Axes>"
      ]
     },
     "metadata": {
      "needs_background": "light"
     },
     "output_type": "display_data"
    }
   ],
   "source": [
    "mk['metrdist'].plot(kind = 'hist')"
   ]
  },
  {
   "cell_type": "code",
   "execution_count": 12,
   "metadata": {},
   "outputs": [
    {
     "data": {
      "text/plain": [
       "<matplotlib.axes._subplots.AxesSubplot at 0x1f151d768e0>"
      ]
     },
     "execution_count": 12,
     "metadata": {},
     "output_type": "execute_result"
    },
    {
     "data": {
      "image/png": "[encoded data removed]",
      "text/plain": [
       "<Figure size 432x288 with 1 Axes>"
      ]
     },
     "metadata": {
      "needs_background": "light"
     },
     "output_type": "display_data"
    }
   ],
   "source": [
    "mk['floor'].plot(kind = 'hist')"
   ]
  },
  {
   "cell_type": "code",
   "execution_count": 13,
   "metadata": {},
   "outputs": [
    {
     "data": {
      "text/html": [
       "<div>\n",
       "<style scoped>\n",
       "    .dataframe tbody tr th:only-of-type {\n",
       "        vertical-align: middle;\n",
       "    }\n",
       "\n",
       "    .dataframe tbody tr th {\n",
       "        vertical-align: top;\n",
       "    }\n",
       "\n",
       "    .dataframe thead th {\n",
       "        text-align: right;\n",
       "    }\n",
       "</style>\n",
       "<table border=\"1\" class=\"dataframe\">\n",
       "  <thead>\n",
       "    <tr style=\"text-align: right;\">\n",
       "      <th></th>\n",
       "      <th>totsp</th>\n",
       "      <th>livesp</th>\n",
       "      <th>kitsp</th>\n",
       "      <th>dist</th>\n",
       "      <th>metrdist</th>\n",
       "      <th>floor</th>\n",
       "      <th>price</th>\n",
       "    </tr>\n",
       "  </thead>\n",
       "  <tbody>\n",
       "    <tr>\n",
       "      <th>totsp</th>\n",
       "      <td>1.000000</td>\n",
       "      <td>0.862236</td>\n",
       "      <td>0.781536</td>\n",
       "      <td>-0.114698</td>\n",
       "      <td>-0.041426</td>\n",
       "      <td>0.021925</td>\n",
       "      <td>0.756042</td>\n",
       "    </tr>\n",
       "    <tr>\n",
       "      <th>livesp</th>\n",
       "      <td>0.862236</td>\n",
       "      <td>1.000000</td>\n",
       "      <td>0.573528</td>\n",
       "      <td>-0.197228</td>\n",
       "      <td>-0.052112</td>\n",
       "      <td>0.016589</td>\n",
       "      <td>0.729614</td>\n",
       "    </tr>\n",
       "    <tr>\n",
       "      <th>kitsp</th>\n",
       "      <td>0.781536</td>\n",
       "      <td>0.573528</td>\n",
       "      <td>1.000000</td>\n",
       "      <td>-0.061874</td>\n",
       "      <td>-0.028490</td>\n",
       "      <td>0.030567</td>\n",
       "      <td>0.597235</td>\n",
       "    </tr>\n",
       "    <tr>\n",
       "      <th>dist</th>\n",
       "      <td>-0.114698</td>\n",
       "      <td>-0.197228</td>\n",
       "      <td>-0.061874</td>\n",
       "      <td>1.000000</td>\n",
       "      <td>0.099185</td>\n",
       "      <td>-0.046410</td>\n",
       "      <td>-0.331563</td>\n",
       "    </tr>\n",
       "    <tr>\n",
       "      <th>metrdist</th>\n",
       "      <td>-0.041426</td>\n",
       "      <td>-0.052112</td>\n",
       "      <td>-0.028490</td>\n",
       "      <td>0.099185</td>\n",
       "      <td>1.000000</td>\n",
       "      <td>-0.013002</td>\n",
       "      <td>-0.152116</td>\n",
       "    </tr>\n",
       "    <tr>\n",
       "      <th>floor</th>\n",
       "      <td>0.021925</td>\n",
       "      <td>0.016589</td>\n",
       "      <td>0.030567</td>\n",
       "      <td>-0.046410</td>\n",
       "      <td>-0.013002</td>\n",
       "      <td>1.000000</td>\n",
       "      <td>0.060632</td>\n",
       "    </tr>\n",
       "    <tr>\n",
       "      <th>price</th>\n",
       "      <td>0.756042</td>\n",
       "      <td>0.729614</td>\n",
       "      <td>0.597235</td>\n",
       "      <td>-0.331563</td>\n",
       "      <td>-0.152116</td>\n",
       "      <td>0.060632</td>\n",
       "      <td>1.000000</td>\n",
       "    </tr>\n",
       "  </tbody>\n",
       "</table>\n",
       "</div>"
      ],
      "text/plain": [
       "             totsp    livesp     kitsp      dist  metrdist     floor     price\n",
       "totsp     1.000000  0.862236  0.781536 -0.114698 -0.041426  0.021925  0.756042\n",
       "livesp    0.862236  1.000000  0.573528 -0.197228 -0.052112  0.016589  0.729614\n",
       "kitsp     0.781536  0.573528  1.000000 -0.061874 -0.028490  0.030567  0.597235\n",
       "dist     -0.114698 -0.197228 -0.061874  1.000000  0.099185 -0.046410 -0.331563\n",
       "metrdist -0.041426 -0.052112 -0.028490  0.099185  1.000000 -0.013002 -0.152116\n",
       "floor     0.021925  0.016589  0.030567 -0.046410 -0.013002  1.000000  0.060632\n",
       "price     0.756042  0.729614  0.597235 -0.331563 -0.152116  0.060632  1.000000"
      ]
     },
     "execution_count": 13,
     "metadata": {},
     "output_type": "execute_result"
    }
   ],
   "source": [
    "# Строим корреляционную матрциу. Наиболее коррелируемым фактором является для Price >> totsp. Это нужно для того что бы построить однофакторную линенйную регрессию.\n",
    "mk.corr ()"
   ]
  },
  {
   "cell_type": "code",
   "execution_count": 14,
   "metadata": {},
   "outputs": [],
   "source": [
    "# Делим наш дата сет на обучающую и тестовую выборку. Записываем в х все парамеры  кроме у(Price). И указываем в чанке что мы будем рассматривать значения с 0 по 1 столбцы при этом 0 включается а 1 нет.\n",
    "X = mk.iloc[:, :-1].values \n",
    "y = mk.iloc[:, 6].values\n",
    "from sklearn.model_selection import train_test_split\n",
    "X_train, X_test, y_train, y_test = train_test_split(X, y, test_size=0.2, random_state=10)"
   ]
  },
  {
   "cell_type": "code",
   "execution_count": 15,
   "metadata": {},
   "outputs": [],
   "source": [
    "# Строим простую линейную регрессию зависимости от одного фактора (totsp)\n",
    "from sklearn.linear_model import LinearRegression\n",
    "sr = LinearRegression().fit(X_train[:, 0:1], y_train)"
   ]
  },
  {
   "cell_type": "code",
   "execution_count": 16,
   "metadata": {},
   "outputs": [
    {
     "data": {
      "text/plain": [
       "(array([2.55696057]), -59.29467080960626)"
      ]
     },
     "execution_count": 16,
     "metadata": {},
     "output_type": "execute_result"
    }
   ],
   "source": [
    "# Оцениваем полученные параметры\n",
    "sr.coef_, sr.intercept_"
   ]
  },
  {
   "cell_type": "code",
   "execution_count": 17,
   "metadata": {},
   "outputs": [],
   "source": [
    "# Делаем прогноз \n",
    "y_pred = sr.predict(X_test[:, 0:1])"
   ]
  },
  {
   "cell_type": "code",
   "execution_count": 18,
   "metadata": {},
   "outputs": [
    {
     "data": {
      "text/plain": [
       "(0.5796671038371893, 0.5442070170736983)"
      ]
     },
     "execution_count": 18,
     "metadata": {},
     "output_type": "execute_result"
    }
   ],
   "source": [
    "# Проверяем кэф. детерминации, который для обучающей выборки 0.56 значение но  0.54 для тестовой , что является неудовлетвориельным значением доверия.\n",
    "sr.score(X_train[:, 0:1], y_train), sr.score(X_test[:, 0:1], y_test)"
   ]
  },
  {
   "cell_type": "code",
   "execution_count": 19,
   "metadata": {},
   "outputs": [
    {
     "data": {
      "text/plain": [
       "(1087.0619959619353, 1415.3669644724396)"
      ]
     },
     "execution_count": 19,
     "metadata": {},
     "output_type": "execute_result"
    }
   ],
   "source": [
    "# Расчитываем среднеквадратическую ошибку. Для обучающей выборки ошибка меьнше, чем для тестовой. Но исходя из полученных коэфициентов следует что цена не зависит от фактора totspю Об этом свидетельствует ошибка которую мы получили. Для более точной модели необходимо включить в модель больше факторовб что мы сделаем далее при построении множественной регресии.\n",
    "from sklearn.metrics import mean_squared_error\n",
    "mean_squared_error(y_train, sr.predict(X_train[:, 0:1])), mean_squared_error(y_test, y_pred)"
   ]
  },
  {
   "cell_type": "code",
   "execution_count": 20,
   "metadata": {},
   "outputs": [
    {
     "data": {
      "image/png": "[encoded data removed]",
      "text/plain": [
       "<Figure size 432x288 with 1 Axes>"
      ]
     },
     "metadata": {
      "needs_background": "light"
     },
     "output_type": "display_data"
    }
   ],
   "source": [
    "# Проиллюстрируем полученную модель. Можно сделать следующие выводы, что простая линейная регрессия описывает модель не точно.\n",
    "plt.scatter(X_test[:,0], y_test, color = 'red')\n",
    "plt.plot(X_test[:,0], sr.predict(X_test[:, 0:1]), 'bo')\n",
    "plt.title('totsp vs Price (Test set)')\n",
    "plt.xlabel('totsp')\n",
    "plt.ylabel('Price')  \n",
    "plt.show()"
   ]
  },
  {
   "cell_type": "code",
   "execution_count": 21,
   "metadata": {},
   "outputs": [
    {
     "data": {
      "text/html": [
       "<table class=\"simpletable\">\n",
       "<caption>OLS Regression Results</caption>\n",
       "<tr>\n",
       "  <th>Dep. Variable:</th>            <td>y</td>        <th>  R-squared:         </th> <td>   0.664</td> \n",
       "</tr>\n",
       "<tr>\n",
       "  <th>Model:</th>                   <td>OLS</td>       <th>  Adj. R-squared:    </th> <td>   0.663</td> \n",
       "</tr>\n",
       "<tr>\n",
       "  <th>Method:</th>             <td>Least Squares</td>  <th>  F-statistic:       </th> <td>   536.1</td> \n",
       "</tr>\n",
       "<tr>\n",
       "  <th>Date:</th>             <td>Sun, 20 Dec 2020</td> <th>  Prob (F-statistic):</th>  <td>  0.00</td>  \n",
       "</tr>\n",
       "<tr>\n",
       "  <th>Time:</th>                 <td>14:43:05</td>     <th>  Log-Likelihood:    </th> <td> -7836.9</td> \n",
       "</tr>\n",
       "<tr>\n",
       "  <th>No. Observations:</th>      <td>  1632</td>      <th>  AIC:               </th> <td>1.569e+04</td>\n",
       "</tr>\n",
       "<tr>\n",
       "  <th>Df Residuals:</th>          <td>  1625</td>      <th>  BIC:               </th> <td>1.573e+04</td>\n",
       "</tr>\n",
       "<tr>\n",
       "  <th>Df Model:</th>              <td>     6</td>      <th>                     </th>     <td> </td>    \n",
       "</tr>\n",
       "<tr>\n",
       "  <th>Covariance Type:</th>      <td>nonrobust</td>    <th>                     </th>     <td> </td>    \n",
       "</tr>\n",
       "</table>\n",
       "<table class=\"simpletable\">\n",
       "<tr>\n",
       "    <td></td>       <th>coef</th>     <th>std err</th>      <th>t</th>      <th>P>|t|</th>  <th>[0.025</th>    <th>0.975]</th>  \n",
       "</tr>\n",
       "<tr>\n",
       "  <th>const</th> <td>  -16.5593</td> <td>    5.834</td> <td>   -2.838</td> <td> 0.005</td> <td>  -28.002</td> <td>   -5.116</td>\n",
       "</tr>\n",
       "<tr>\n",
       "  <th>x1</th>    <td>    1.6819</td> <td>    0.128</td> <td>   13.161</td> <td> 0.000</td> <td>    1.431</td> <td>    1.933</td>\n",
       "</tr>\n",
       "<tr>\n",
       "  <th>x2</th>    <td>    1.1752</td> <td>    0.195</td> <td>    6.015</td> <td> 0.000</td> <td>    0.792</td> <td>    1.558</td>\n",
       "</tr>\n",
       "<tr>\n",
       "  <th>x3</th>    <td>    1.5861</td> <td>    0.427</td> <td>    3.712</td> <td> 0.000</td> <td>    0.748</td> <td>    2.424</td>\n",
       "</tr>\n",
       "<tr>\n",
       "  <th>x4</th>    <td>   -3.4453</td> <td>    0.222</td> <td>  -15.493</td> <td> 0.000</td> <td>   -3.882</td> <td>   -3.009</td>\n",
       "</tr>\n",
       "<tr>\n",
       "  <th>x5</th>    <td>   -1.3073</td> <td>    0.193</td> <td>   -6.766</td> <td> 0.000</td> <td>   -1.686</td> <td>   -0.928</td>\n",
       "</tr>\n",
       "<tr>\n",
       "  <th>x6</th>    <td>    0.9346</td> <td>    0.324</td> <td>    2.888</td> <td> 0.004</td> <td>    0.300</td> <td>    1.569</td>\n",
       "</tr>\n",
       "</table>\n",
       "<table class=\"simpletable\">\n",
       "<tr>\n",
       "  <th>Omnibus:</th>       <td>698.506</td> <th>  Durbin-Watson:     </th> <td>   1.938</td>\n",
       "</tr>\n",
       "<tr>\n",
       "  <th>Prob(Omnibus):</th> <td> 0.000</td>  <th>  Jarque-Bera (JB):  </th> <td>6085.932</td>\n",
       "</tr>\n",
       "<tr>\n",
       "  <th>Skew:</th>          <td> 1.775</td>  <th>  Prob(JB):          </th> <td>    0.00</td>\n",
       "</tr>\n",
       "<tr>\n",
       "  <th>Kurtosis:</th>      <td>11.769</td>  <th>  Cond. No.          </th> <td>    715.</td>\n",
       "</tr>\n",
       "</table><br/><br/>Warnings:<br/>[1] Standard Errors assume that the covariance matrix of the errors is correctly specified."
      ],
      "text/plain": [
       "<class 'statsmodels.iolib.summary.Summary'>\n",
       "\"\"\"\n",
       "                            OLS Regression Results                            \n",
       "==============================================================================\n",
       "Dep. Variable:                      y   R-squared:                       0.664\n",
       "Model:                            OLS   Adj. R-squared:                  0.663\n",
       "Method:                 Least Squares   F-statistic:                     536.1\n",
       "Date:                Sun, 20 Dec 2020   Prob (F-statistic):               0.00\n",
       "Time:                        14:43:05   Log-Likelihood:                -7836.9\n",
       "No. Observations:                1632   AIC:                         1.569e+04\n",
       "Df Residuals:                    1625   BIC:                         1.573e+04\n",
       "Df Model:                           6                                         \n",
       "Covariance Type:            nonrobust                                         \n",
       "==============================================================================\n",
       "                 coef    std err          t      P>|t|      [0.025      0.975]\n",
       "------------------------------------------------------------------------------\n",
       "const        -16.5593      5.834     -2.838      0.005     -28.002      -5.116\n",
       "x1             1.6819      0.128     13.161      0.000       1.431       1.933\n",
       "x2             1.1752      0.195      6.015      0.000       0.792       1.558\n",
       "x3             1.5861      0.427      3.712      0.000       0.748       2.424\n",
       "x4            -3.4453      0.222    -15.493      0.000      -3.882      -3.009\n",
       "x5            -1.3073      0.193     -6.766      0.000      -1.686      -0.928\n",
       "x6             0.9346      0.324      2.888      0.004       0.300       1.569\n",
       "==============================================================================\n",
       "Omnibus:                      698.506   Durbin-Watson:                   1.938\n",
       "Prob(Omnibus):                  0.000   Jarque-Bera (JB):             6085.932\n",
       "Skew:                           1.775   Prob(JB):                         0.00\n",
       "Kurtosis:                      11.769   Cond. No.                         715.\n",
       "==============================================================================\n",
       "\n",
       "Warnings:\n",
       "[1] Standard Errors assume that the covariance matrix of the errors is correctly specified.\n",
       "\"\"\""
      ]
     },
     "execution_count": 21,
     "metadata": {},
     "output_type": "execute_result"
    }
   ],
   "source": [
    "# Множественная регрессия. Проверяем P value - делаем выводы , что практически все 5 переменных  значимы и будем использовать их как основу.\n",
    "import statsmodels.api as sm\n",
    "X = sm.add_constant(X_train)\n",
    "mr1 = sm.OLS(y_train, X).fit()\n",
    "#mr1.pvalues\n",
    "mr1.summary()"
   ]
  },
  {
   "cell_type": "code",
   "execution_count": 22,
   "metadata": {},
   "outputs": [],
   "source": [
    "# Определяем значимые переменные с погрешностью 5%.\n",
    "def backwardElimination(x, sl):\n",
    "    x = sm.add_constant(x)\n",
    "    numVars = len(x[0])\n",
    "    for i in range(0, numVars):\n",
    "        regressor_OLS = sm.OLS(y, x).fit()\n",
    "        maxVar = max(regressor_OLS.pvalues).astype(float)\n",
    "        if maxVar > sl:\n",
    "            for j in range(0, numVars - i):\n",
    "                if (regressor_OLS.pvalues[j].astype(float) == maxVar):\n",
    "                    x = np.delete(x, j, 1)\n",
    "    regressor_OLS.summary()\n",
    "    return x\n",
    "\n",
    "import statsmodels.api as sm         \n",
    "SL = 0.05\n",
    "X_opt = X_train\n",
    "y = y_train\n",
    "X_Modeled = backwardElimination(X_opt, SL)"
   ]
  },
  {
   "cell_type": "code",
   "execution_count": 24,
   "metadata": {},
   "outputs": [],
   "source": [
    "#Включим в переменную все факторы кроме одного для построения и оценки модели. \n",
    "X_train = X_train[:, [0,1,2,3,4,5]]\n",
    "X_test = X_test[:, [0,1,2,3,4,5]]"
   ]
  },
  {
   "cell_type": "code",
   "execution_count": 26,
   "metadata": {},
   "outputs": [],
   "source": [
    "# Строим множественную регрессию на обучающейся выборке.\n",
    "mr = LinearRegression().fit(X_train, y_train)"
   ]
  },
  {
   "cell_type": "code",
   "execution_count": 27,
   "metadata": {},
   "outputs": [
    {
     "data": {
      "text/plain": [
       "(array([ 1.68187405,  1.17524348,  1.58605998, -3.44533096, -1.30733549,\n",
       "         0.93464348]),\n",
       " -16.559285523410296)"
      ]
     },
     "execution_count": 27,
     "metadata": {},
     "output_type": "execute_result"
    }
   ],
   "source": [
    "# Получаем и оцениваем параметры.\n",
    "mr.coef_, mr.intercept_"
   ]
  },
  {
   "cell_type": "code",
   "execution_count": 28,
   "metadata": {},
   "outputs": [],
   "source": [
    "# Строим прогноз.\n",
    "y_pred = mr.predict(X_test)"
   ]
  },
  {
   "cell_type": "code",
   "execution_count": 29,
   "metadata": {},
   "outputs": [
    {
     "data": {
      "text/plain": [
       "(0.664386329424349, 0.6282471018687572)"
      ]
     },
     "execution_count": 29,
     "metadata": {},
     "output_type": "execute_result"
    }
   ],
   "source": [
    "# Проверяем кэф. детерминации, который равен 0.66 для обучающей,и 0.72 для тествой что сравнимо лучше чем в моделе однофактороной регрессии, но по прежнему низкий. Данную модель можно использовать для пронозирования, коэфициент детерменации достаточно высокий и немного не дотягивает до минимальной нормы.\n",
    "mr.score(X_train, y_train), mr.score(X_test, y_test)"
   ]
  },
  {
   "cell_type": "code",
   "execution_count": 30,
   "metadata": {},
   "outputs": [
    {
     "data": {
      "text/plain": [
       "(867.961727332341, 1154.3985771429184)"
      ]
     },
     "execution_count": 30,
     "metadata": {},
     "output_type": "execute_result"
    }
   ],
   "source": [
    "# Расчитываем среднеквадратическую ошибку. Ошибка стала  меньше практически в 2 раза в  сравнении с однофакторной регрессией, что даказывает что для прогнозирования нужно включать больше факторов для болеее точной оценки.\n",
    "mean_squared_error(y_train, mr.predict(X_train)), mean_squared_error(y_test, y_pred)"
   ]
  },
  {
   "cell_type": "code",
   "execution_count": 31,
   "metadata": {},
   "outputs": [
    {
     "data": {
      "image/png": "[encoded data removed]",
      "text/plain": [
       "<Figure size 432x288 with 1 Axes>"
      ]
     },
     "metadata": {
      "needs_background": "light"
     },
     "output_type": "display_data"
    }
   ],
   "source": [
    "# Проиллюстрируем полученную модель. Можно сделать следующие выводы, что множественная линейная регрессия описывает модель лучше, чем однофакторная, стала в разы  точнее.\n",
    "plt.scatter(X_test[:,0], y_test, color = 'red')\n",
    "plt.plot(X_test[:,0], mr.predict(X_test), 'bo')\n",
    "plt.title('Price vs livesp (Test set)')\n",
    "plt.xlabel('livesp')\n",
    "plt.ylabel('price')\n",
    "plt.show()"
   ]
  },
  {
   "cell_type": "code",
   "execution_count": 32,
   "metadata": {},
   "outputs": [],
   "source": [
    "# Построим полиномиальную регрессию для нашего датасета.\n",
    "from sklearn.preprocessing import PolynomialFeatures\n",
    "X_train_p = PolynomialFeatures().fit_transform(X_train)\n",
    "X_test_p = PolynomialFeatures().fit_transform(X_test)\n",
    "pr = LinearRegression().fit(X_train_p[:,1:], y_train)"
   ]
  },
  {
   "cell_type": "code",
   "execution_count": 33,
   "metadata": {},
   "outputs": [
    {
     "data": {
      "text/plain": [
       "(array([ 2.74338472e+00, -5.62880637e+00,  4.00706172e+00,  7.95478464e-01,\n",
       "        -1.13398013e+00, -1.53253921e+00,  4.62688585e-03, -1.24583061e-02,\n",
       "        -1.83098828e-02, -1.33712216e-01,  5.48110125e-02, -9.94315335e-02,\n",
       "         6.97683474e-02,  3.98389245e-02,  8.47299531e-02, -1.18328984e-01,\n",
       "         1.20127821e-01, -7.07520708e-02, -1.21210125e-01, -9.43234521e-02,\n",
       "         7.34011041e-01,  1.23839816e-01,  6.46575770e-03,  3.95947443e-02,\n",
       "         1.33263211e-01, -3.14170386e-02, -1.84063305e-01]),\n",
       " 81.39891048594392)"
      ]
     },
     "execution_count": 33,
     "metadata": {},
     "output_type": "execute_result"
    }
   ],
   "source": [
    "# Получаем и оцениваем параметры\n",
    "pr.coef_, pr.intercept_"
   ]
  },
  {
   "cell_type": "code",
   "execution_count": 34,
   "metadata": {},
   "outputs": [],
   "source": [
    "# Строим прогноз\n",
    "y_pred = pr.predict(X_test_p[:,1:])"
   ]
  },
  {
   "cell_type": "code",
   "execution_count": 35,
   "metadata": {},
   "outputs": [
    {
     "data": {
      "text/plain": [
       "(0.7190325543963336, 0.7435176650130797)"
      ]
     },
     "execution_count": 35,
     "metadata": {},
     "output_type": "execute_result"
    }
   ],
   "source": [
    "# Проверяем кэф. детерминации,0,68 для обучающей и 0.74 для тестовой. Кэф. детерминации немного увеличился  в сравнении с множественноей регрессией. Данная модель будет немного точнее описать данные. \n",
    "pr.score(X_train_p[:,1:], y_train), pr.score(X_test_p[:,1:], y_test)"
   ]
  },
  {
   "cell_type": "code",
   "execution_count": 36,
   "metadata": {},
   "outputs": [
    {
     "data": {
      "text/plain": [
       "(726.6360425426805, 796.4506640286252)"
      ]
     },
     "execution_count": 36,
     "metadata": {},
     "output_type": "execute_result"
    }
   ],
   "source": [
    "# Расчитываем среднеквадратическую ошибку. Ошибка меньше в сравнении с множественной регрессией.\n",
    "mean_squared_error(y_train, pr.predict(X_train_p[:,1:])), mean_squared_error(y_test, y_pred)"
   ]
  },
  {
   "cell_type": "code",
   "execution_count": 37,
   "metadata": {},
   "outputs": [
    {
     "data": {
      "image/png": "[encoded data removed]",
      "text/plain": [
       "<Figure size 432x288 with 1 Axes>"
      ]
     },
     "metadata": {
      "needs_background": "light"
     },
     "output_type": "display_data"
    }
   ],
   "source": [
    "# Проиллюстрируем полученную модель. Можно сделать следующие выводы, что полиномиальная регрессия описывает модель лучше, чем однофакторная и множественная. Модель более точно описывает значения.\n",
    "plt.scatter(X_test[:,0], y_test, color = 'red')\n",
    "plt.plot(X_test[:,0], pr.predict(X_test_p[:,1:]), 'bo')\n",
    "plt.title('Price vs totsp (Test set)')\n",
    "plt.xlabel('totsp')\n",
    "plt.ylabel('price')\n",
    "plt.show()"
   ]
  },
  {
   "cell_type": "code",
   "execution_count": 38,
   "metadata": {},
   "outputs": [],
   "source": [
    "#Проведем оценку с помощью нейронной сети. \n",
    "import pickle\n",
    "obj = {'X_train': X_train, 'X_test': X_test,'y_train': y_train,'y_test': y_test}\n",
    "output = open('kr_reg1.pkl', 'wb')\n",
    "pickle.dump(obj, output, 2)\n",
    "output.close()"
   ]
  },
  {
   "cell_type": "code",
   "execution_count": 40,
   "metadata": {},
   "outputs": [],
   "source": [
    "# Загружаем наши данные для построения нейронной сети.\n",
    "import pickle\n",
    "input = open('kr_reg1.pkl', 'rb')\n",
    "obj = pickle.load(input)\n",
    "input.close()\n",
    "X_train = obj[\"X_train\"]\n",
    "X_test = obj[\"X_test\"]\n",
    "y_train = obj[\"y_train\"]\n",
    "y_test = obj[\"y_test\"]"
   ]
  },
  {
   "cell_type": "code",
   "execution_count": 41,
   "metadata": {},
   "outputs": [],
   "source": [
    "# Проводим шкалирование.\n",
    "from sklearn.preprocessing import StandardScaler\n",
    "sc_X = StandardScaler().fit(X_train)\n",
    "X_train = sc_X.transform(X_train)\n",
    "X_test = sc_X.transform(X_test)\n",
    "sc_y = StandardScaler().fit(np.array([[i] for i in y_train]))\n",
    "y_train = sc_y.transform(np.array([[i] for i in y_train]))\n",
    "y_test = sc_y.transform(np.array([[i] for i in y_test]))"
   ]
  },
  {
   "cell_type": "code",
   "execution_count": 42,
   "metadata": {},
   "outputs": [],
   "source": [
    "# Подключаем необходимые библиотеки.\n",
    "import keras\n",
    "from keras.models import Sequential\n",
    "from keras.layers import Dense"
   ]
  },
  {
   "cell_type": "code",
   "execution_count": 43,
   "metadata": {},
   "outputs": [],
   "source": [
    "# Создаём сеть RNN, она будет последовательной. На первом и втором слое берем тангенс для повышенной точности. Для последнего слоя используем линейную функцию активациит \n",
    "rnn = Sequential()\n",
    "\n",
    "# Adding the input layer and the first hidden layer\n",
    "rnn.add(Dense(units = 8, activation = 'tanh', input_dim = 6))\n",
    "\n",
    "# Adding the second hidden layer\n",
    "rnn.add(Dense(units = 4, activation = 'tanh'))\n",
    "\n",
    "# Adding the output layer\n",
    "rnn.add(Dense(units = 1, activation = 'linear'))\n",
    "\n",
    "# Compiling the ANN\n",
    "rnn.compile(optimizer='adam', loss='mean_squared_error', metrics = ['accuracy'])"
   ]
  },
  {
   "cell_type": "code",
   "execution_count": 44,
   "metadata": {},
   "outputs": [
    {
     "name": "stdout",
     "output_type": "stream",
     "text": [
      "Epoch 1/100\n",
      "164/164 [==============================] - 0s 2ms/step - loss: 0.7447 - accuracy: 0.0000e+00\n",
      "Epoch 2/100\n",
      "164/164 [==============================] - 0s 2ms/step - loss: 0.5461 - accuracy: 0.0000e+00\n",
      "Epoch 3/100\n",
      "164/164 [==============================] - 0s 2ms/step - loss: 0.4874 - accuracy: 0.0000e+00\n",
      "Epoch 4/100\n",
      "164/164 [==============================] - 0s 2ms/step - loss: 0.4576 - accuracy: 0.0000e+00\n",
      "Epoch 5/100\n",
      "164/164 [==============================] - 0s 2ms/step - loss: 0.4341 - accuracy: 0.0000e+00\n",
      "Epoch 6/100\n",
      "164/164 [==============================] - 0s 3ms/step - loss: 0.4152 - accuracy: 0.0000e+00\n",
      "Epoch 7/100\n",
      "164/164 [==============================] - 0s 2ms/step - loss: 0.4041 - accuracy: 0.0000e+00\n",
      "Epoch 8/100\n",
      "164/164 [==============================] - 0s 2ms/step - loss: 0.3939 - accuracy: 0.0000e+00\n",
      "Epoch 9/100\n",
      "164/164 [==============================] - 0s 2ms/step - loss: 0.3834 - accuracy: 0.0000e+00\n",
      "Epoch 10/100\n",
      "164/164 [==============================] - 0s 3ms/step - loss: 0.3765 - accuracy: 0.0000e+00\n",
      "Epoch 11/100\n",
      "164/164 [==============================] - 0s 2ms/step - loss: 0.3705 - accuracy: 0.0000e+00\n",
      "Epoch 12/100\n",
      "164/164 [==============================] - 0s 2ms/step - loss: 0.3632 - accuracy: 0.0000e+00\n",
      "Epoch 13/100\n",
      "164/164 [==============================] - 0s 2ms/step - loss: 0.3602 - accuracy: 0.0000e+00\n",
      "Epoch 14/100\n",
      "164/164 [==============================] - 0s 2ms/step - loss: 0.3554 - accuracy: 0.0000e+00\n",
      "Epoch 15/100\n",
      "164/164 [==============================] - 0s 2ms/step - loss: 0.3593 - accuracy: 0.0000e+00\n",
      "Epoch 16/100\n",
      "164/164 [==============================] - 0s 2ms/step - loss: 0.3486 - accuracy: 0.0000e+00\n",
      "Epoch 17/100\n",
      "164/164 [==============================] - 0s 2ms/step - loss: 0.3472 - accuracy: 0.0000e+00\n",
      "Epoch 18/100\n",
      "164/164 [==============================] - 0s 2ms/step - loss: 0.3436 - accuracy: 0.0000e+00\n",
      "Epoch 19/100\n",
      "164/164 [==============================] - 0s 2ms/step - loss: 0.3399 - accuracy: 0.0000e+00\n",
      "Epoch 20/100\n",
      "164/164 [==============================] - 0s 2ms/step - loss: 0.3386 - accuracy: 0.0000e+00\n",
      "Epoch 21/100\n",
      "164/164 [==============================] - 1s 4ms/step - loss: 0.3357 - accuracy: 0.0000e+00\n",
      "Epoch 22/100\n",
      "164/164 [==============================] - 0s 2ms/step - loss: 0.3373 - accuracy: 0.0000e+00\n",
      "Epoch 23/100\n",
      "164/164 [==============================] - 0s 2ms/step - loss: 0.3320 - accuracy: 0.0000e+00\n",
      "Epoch 24/100\n",
      "164/164 [==============================] - 0s 1ms/step - loss: 0.3296 - accuracy: 0.0000e+00\n",
      "Epoch 25/100\n",
      "164/164 [==============================] - 0s 3ms/step - loss: 0.3277 - accuracy: 0.0000e+00\n",
      "Epoch 26/100\n",
      "164/164 [==============================] - 0s 3ms/step - loss: 0.3261 - accuracy: 0.0000e+00\n",
      "Epoch 27/100\n",
      "164/164 [==============================] - 0s 1ms/step - loss: 0.3265 - accuracy: 0.0000e+00\n",
      "Epoch 28/100\n",
      "164/164 [==============================] - 0s 1ms/step - loss: 0.3244 - accuracy: 0.0000e+00\n",
      "Epoch 29/100\n",
      "164/164 [==============================] - 0s 1ms/step - loss: 0.3270 - accuracy: 0.0000e+00\n",
      "Epoch 30/100\n",
      "164/164 [==============================] - 0s 1ms/step - loss: 0.3219 - accuracy: 0.0000e+00\n",
      "Epoch 31/100\n",
      "164/164 [==============================] - 0s 1ms/step - loss: 0.3227 - accuracy: 0.0000e+00\n",
      "Epoch 32/100\n",
      "164/164 [==============================] - 0s 1ms/step - loss: 0.3180 - accuracy: 0.0000e+00\n",
      "Epoch 33/100\n",
      "164/164 [==============================] - 0s 1ms/step - loss: 0.3140 - accuracy: 0.0000e+00\n",
      "Epoch 34/100\n",
      "164/164 [==============================] - 0s 1ms/step - loss: 0.3151 - accuracy: 0.0000e+00\n",
      "Epoch 35/100\n",
      "164/164 [==============================] - 1s 3ms/step - loss: 0.3144 - accuracy: 0.0000e+00\n",
      "Epoch 36/100\n",
      "164/164 [==============================] - 1s 3ms/step - loss: 0.3146 - accuracy: 0.0000e+00\n",
      "Epoch 37/100\n",
      "164/164 [==============================] - 0s 2ms/step - loss: 0.3116 - accuracy: 0.0000e+00\n",
      "Epoch 38/100\n",
      "164/164 [==============================] - 1s 3ms/step - loss: 0.3105 - accuracy: 0.0000e+00\n",
      "Epoch 39/100\n",
      "164/164 [==============================] - 0s 2ms/step - loss: 0.3124 - accuracy: 0.0000e+00\n",
      "Epoch 40/100\n",
      "164/164 [==============================] - 0s 2ms/step - loss: 0.3093 - accuracy: 0.0000e+00\n",
      "Epoch 41/100\n",
      "164/164 [==============================] - 0s 2ms/step - loss: 0.3067 - accuracy: 0.0000e+00\n",
      "Epoch 42/100\n",
      "164/164 [==============================] - 0s 2ms/step - loss: 0.3050 - accuracy: 0.0000e+00\n",
      "Epoch 43/100\n",
      "164/164 [==============================] - 0s 2ms/step - loss: 0.3032 - accuracy: 0.0000e+00\n",
      "Epoch 44/100\n",
      "164/164 [==============================] - 0s 1ms/step - loss: 0.3070 - accuracy: 0.0000e+00\n",
      "Epoch 45/100\n",
      "164/164 [==============================] - 0s 2ms/step - loss: 0.3037 - accuracy: 0.0000e+00\n",
      "Epoch 46/100\n",
      "164/164 [==============================] - 0s 2ms/step - loss: 0.3053 - accuracy: 0.0000e+00\n",
      "Epoch 47/100\n",
      "164/164 [==============================] - 0s 2ms/step - loss: 0.3039 - accuracy: 0.0000e+00\n",
      "Epoch 48/100\n",
      "164/164 [==============================] - 0s 2ms/step - loss: 0.3021 - accuracy: 0.0000e+00\n",
      "Epoch 49/100\n",
      "164/164 [==============================] - 0s 2ms/step - loss: 0.3015 - accuracy: 0.0000e+00\n",
      "Epoch 50/100\n",
      "164/164 [==============================] - 0s 2ms/step - loss: 0.3006 - accuracy: 0.0000e+00\n",
      "Epoch 51/100\n",
      "164/164 [==============================] - 0s 2ms/step - loss: 0.2991 - accuracy: 0.0000e+00\n",
      "Epoch 52/100\n",
      "164/164 [==============================] - 0s 2ms/step - loss: 0.2978 - accuracy: 0.0000e+00\n",
      "Epoch 53/100\n",
      "164/164 [==============================] - 0s 2ms/step - loss: 0.2965 - accuracy: 0.0000e+00\n",
      "Epoch 54/100\n",
      "164/164 [==============================] - 0s 2ms/step - loss: 0.2997 - accuracy: 0.0000e+00\n",
      "Epoch 55/100\n",
      "164/164 [==============================] - 0s 2ms/step - loss: 0.2962 - accuracy: 0.0000e+00\n",
      "Epoch 56/100\n",
      "164/164 [==============================] - 0s 3ms/step - loss: 0.2995 - accuracy: 0.0000e+00\n",
      "Epoch 57/100\n",
      "164/164 [==============================] - 0s 2ms/step - loss: 0.2962 - accuracy: 0.0000e+00\n",
      "Epoch 58/100\n",
      "164/164 [==============================] - 0s 2ms/step - loss: 0.2948 - accuracy: 0.0000e+00\n",
      "Epoch 59/100\n",
      "164/164 [==============================] - 0s 2ms/step - loss: 0.2965 - accuracy: 0.0000e+00\n",
      "Epoch 60/100\n",
      "164/164 [==============================] - 0s 2ms/step - loss: 0.2976 - accuracy: 0.0000e+00\n",
      "Epoch 61/100\n",
      "164/164 [==============================] - 0s 2ms/step - loss: 0.2955 - accuracy: 0.0000e+00\n",
      "Epoch 62/100\n",
      "164/164 [==============================] - 0s 2ms/step - loss: 0.2915 - accuracy: 0.0000e+00\n",
      "Epoch 63/100\n",
      "164/164 [==============================] - 0s 2ms/step - loss: 0.2990 - accuracy: 0.0000e+00\n",
      "Epoch 64/100\n",
      "164/164 [==============================] - 0s 2ms/step - loss: 0.2948 - accuracy: 0.0000e+00\n",
      "Epoch 65/100\n",
      "164/164 [==============================] - 0s 2ms/step - loss: 0.2915 - accuracy: 0.0000e+00\n",
      "Epoch 66/100\n",
      "164/164 [==============================] - 0s 2ms/step - loss: 0.2902 - accuracy: 0.0000e+00\n",
      "Epoch 67/100\n",
      "164/164 [==============================] - 0s 2ms/step - loss: 0.2940 - accuracy: 0.0000e+00\n",
      "Epoch 68/100\n",
      "164/164 [==============================] - 0s 1ms/step - loss: 0.2933 - accuracy: 0.0000e+00\n",
      "Epoch 69/100\n",
      "164/164 [==============================] - 0s 2ms/step - loss: 0.2901 - accuracy: 0.0000e+00\n",
      "Epoch 70/100\n",
      "164/164 [==============================] - 0s 2ms/step - loss: 0.2883 - accuracy: 0.0000e+00\n",
      "Epoch 71/100\n",
      "164/164 [==============================] - 0s 2ms/step - loss: 0.2921 - accuracy: 0.0000e+00\n",
      "Epoch 72/100\n",
      "164/164 [==============================] - 0s 2ms/step - loss: 0.2915 - accuracy: 0.0000e+00\n",
      "Epoch 73/100\n",
      "164/164 [==============================] - 0s 2ms/step - loss: 0.2890 - accuracy: 0.0000e+00\n",
      "Epoch 74/100\n",
      "164/164 [==============================] - 0s 1ms/step - loss: 0.2935 - accuracy: 0.0000e+00\n",
      "Epoch 75/100\n",
      "164/164 [==============================] - 0s 2ms/step - loss: 0.2891 - accuracy: 0.0000e+00\n",
      "Epoch 76/100\n",
      "164/164 [==============================] - 0s 2ms/step - loss: 0.2911 - accuracy: 0.0000e+00\n",
      "Epoch 77/100\n",
      "164/164 [==============================] - 0s 2ms/step - loss: 0.2888 - accuracy: 0.0000e+00\n",
      "Epoch 78/100\n"
     ]
    },
    {
     "name": "stdout",
     "output_type": "stream",
     "text": [
      "164/164 [==============================] - 0s 2ms/step - loss: 0.2925 - accuracy: 0.0000e+00\n",
      "Epoch 79/100\n",
      "164/164 [==============================] - 0s 1ms/step - loss: 0.2880 - accuracy: 0.0000e+00\n",
      "Epoch 80/100\n",
      "164/164 [==============================] - 0s 1ms/step - loss: 0.2918 - accuracy: 0.0000e+00\n",
      "Epoch 81/100\n",
      "164/164 [==============================] - 0s 2ms/step - loss: 0.2919 - accuracy: 0.0000e+00\n",
      "Epoch 82/100\n",
      "164/164 [==============================] - 0s 1ms/step - loss: 0.2891 - accuracy: 0.0000e+00\n",
      "Epoch 83/100\n",
      "164/164 [==============================] - 0s 1ms/step - loss: 0.2845 - accuracy: 0.0000e+00\n",
      "Epoch 84/100\n",
      "164/164 [==============================] - 0s 2ms/step - loss: 0.2890 - accuracy: 0.0000e+00\n",
      "Epoch 85/100\n",
      "164/164 [==============================] - 0s 2ms/step - loss: 0.2833 - accuracy: 0.0000e+00\n",
      "Epoch 86/100\n",
      "164/164 [==============================] - 0s 2ms/step - loss: 0.2849 - accuracy: 0.0000e+00\n",
      "Epoch 87/100\n",
      "164/164 [==============================] - 0s 2ms/step - loss: 0.2836 - accuracy: 0.0000e+00\n",
      "Epoch 88/100\n",
      "164/164 [==============================] - 0s 2ms/step - loss: 0.2890 - accuracy: 0.0000e+00\n",
      "Epoch 89/100\n",
      "164/164 [==============================] - 0s 2ms/step - loss: 0.2838 - accuracy: 0.0000e+00\n",
      "Epoch 90/100\n",
      "164/164 [==============================] - 0s 2ms/step - loss: 0.2887 - accuracy: 0.0000e+00\n",
      "Epoch 91/100\n",
      "164/164 [==============================] - 0s 2ms/step - loss: 0.2832 - accuracy: 0.0000e+00\n",
      "Epoch 92/100\n",
      "164/164 [==============================] - 0s 2ms/step - loss: 0.2836 - accuracy: 0.0000e+00\n",
      "Epoch 93/100\n",
      "164/164 [==============================] - 0s 2ms/step - loss: 0.2865 - accuracy: 0.0000e+00\n",
      "Epoch 94/100\n",
      "164/164 [==============================] - 0s 1ms/step - loss: 0.2838 - accuracy: 0.0000e+00\n",
      "Epoch 95/100\n",
      "164/164 [==============================] - 0s 2ms/step - loss: 0.2833 - accuracy: 0.0000e+00\n",
      "Epoch 96/100\n",
      "164/164 [==============================] - 0s 2ms/step - loss: 0.2812 - accuracy: 0.0000e+00\n",
      "Epoch 97/100\n",
      "164/164 [==============================] - 0s 1ms/step - loss: 0.2825 - accuracy: 0.0000e+00\n",
      "Epoch 98/100\n",
      "164/164 [==============================] - 0s 1ms/step - loss: 0.2838 - accuracy: 0.0000e+00\n",
      "Epoch 99/100\n",
      "164/164 [==============================] - 0s 2ms/step - loss: 0.2808 - accuracy: 0.0000e+00\n",
      "Epoch 100/100\n",
      "164/164 [==============================] - 0s 1ms/step - loss: 0.2787 - accuracy: 0.0000e+00\n"
     ]
    },
    {
     "data": {
      "text/plain": [
       "<tensorflow.python.keras.callbacks.History at 0x1f15cb4b250>"
      ]
     },
     "execution_count": 44,
     "metadata": {},
     "output_type": "execute_result"
    }
   ],
   "source": [
    "# Обучаем нашу нейронную сеть.\n",
    "rnn.fit(X_train, y_train, epochs=100, batch_size = 10)"
   ]
  },
  {
   "cell_type": "code",
   "execution_count": 45,
   "metadata": {},
   "outputs": [],
   "source": [
    "# Строим прогноз по нашей модели.\n",
    "y_pred = rnn.predict(X_test)"
   ]
  },
  {
   "cell_type": "code",
   "execution_count": 46,
   "metadata": {},
   "outputs": [],
   "source": [
    "# Проводим обратное шкалирование\n",
    "from sklearn.preprocessing import StandardScaler\n",
    "y_hat = sc_y.inverse_transform(y_pred)\n",
    "y_test = sc_y.inverse_transform(y_test)\n",
    "X_test = sc_X.inverse_transform(X_test)"
   ]
  },
  {
   "cell_type": "code",
   "execution_count": 47,
   "metadata": {},
   "outputs": [
    {
     "data": {
      "text/plain": [
       "1037.5194746188872"
      ]
     },
     "execution_count": 47,
     "metadata": {},
     "output_type": "execute_result"
    }
   ],
   "source": [
    "# Расчитываем среднеквадратическую ошибку. Ошибка практически равна ошибке из полиномиальной регрессии, но гораздо меньше чем в многофакторной регресии. \n",
    "from sklearn.metrics import mean_squared_error\n",
    "mean_squared_error(y_test, y_hat)"
   ]
  },
  {
   "cell_type": "code",
   "execution_count": 48,
   "metadata": {},
   "outputs": [
    {
     "data": {
      "image/png": "[encoded data removed]",
      "text/plain": [
       "<Figure size 432x288 with 1 Axes>"
      ]
     },
     "metadata": {
      "needs_background": "light"
     },
     "output_type": "display_data"
    }
   ],
   "source": [
    "# Визуализируем нашу полученную модель. Как мы видим, что данная нейронная сеть наиболее точно описывает нашу выборку, в сравнении с другими моделями.\n",
    "plt.scatter(X_test[:,0], y_test, color = 'red')\n",
    "plt.plot(X_test[:,0], y_hat, 'bo')\n",
    "plt.title('Price vs totsp (Test set)')\n",
    "plt.xlabel('Totsp')\n",
    "plt.ylabel('Price')\n",
    "plt.show()"
   ]
  }
 ],
 "metadata": {
  "kernelspec": {
   "display_name": "Python 3",
   "language": "python",
   "name": "python3"
  },
  "language_info": {
   "codemirror_mode": {
    "name": "ipython",
    "version": 3
   },
   "file_extension": ".py",
   "mimetype": "text/x-python",
   "name": "python",
   "nbconvert_exporter": "python",
   "pygments_lexer": "ipython3",
   "version": "3.8.3"
  }
 },
 "nbformat": 4,
 "nbformat_minor": 4
}
