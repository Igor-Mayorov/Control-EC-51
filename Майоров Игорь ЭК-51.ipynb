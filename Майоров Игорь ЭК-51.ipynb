{
 "cells": [
  {
   "cell_type": "code",
   "execution_count": 1,
   "metadata": {},
   "outputs": [],
   "source": [
    "#Загружаем наш дата сет. Мы имеем дата сет из 10 колонок (Age, Sex, ALP, ALT, AST, BIL, CHE, CHOL, CREA, Category).Среди данных есть как и числовые так и качественные переменныею. Крайний столбец Category выступает как классификатор."
   ]
  },
  {
   "cell_type": "code",
   "execution_count": 1,
   "metadata": {},
   "outputs": [],
   "source": [
    "# С помощью этой чанки мы загрузим  необходимые библиотеки для начала работы (Numpy, Matplotlib.pyplot ,Pandas)\n",
    "import numpy as np\n",
    "import matplotlib.pyplot as plt\n",
    "import pandas as pd"
   ]
  },
  {
   "cell_type": "code",
   "execution_count": 2,
   "metadata": {},
   "outputs": [],
   "source": [
    "# Загрузим над исходный датасет. \n",
    "df = pd.read_csv('mayorov.csv', sep=',' )"
   ]
  },
  {
   "cell_type": "code",
   "execution_count": 3,
   "metadata": {},
   "outputs": [
    {
     "data": {
      "text/html": [
       "<div>\n",
       "<style scoped>\n",
       "    .dataframe tbody tr th:only-of-type {\n",
       "        vertical-align: middle;\n",
       "    }\n",
       "\n",
       "    .dataframe tbody tr th {\n",
       "        vertical-align: top;\n",
       "    }\n",
       "\n",
       "    .dataframe thead th {\n",
       "        text-align: right;\n",
       "    }\n",
       "</style>\n",
       "<table border=\"1\" class=\"dataframe\">\n",
       "  <thead>\n",
       "    <tr style=\"text-align: right;\">\n",
       "      <th></th>\n",
       "      <th>Age</th>\n",
       "      <th>Sex</th>\n",
       "      <th>ALB</th>\n",
       "      <th>ALP</th>\n",
       "      <th>ALT</th>\n",
       "      <th>AST</th>\n",
       "      <th>BIL</th>\n",
       "      <th>CHOL</th>\n",
       "      <th>CREA</th>\n",
       "      <th>Category</th>\n",
       "    </tr>\n",
       "  </thead>\n",
       "  <tbody>\n",
       "    <tr>\n",
       "      <th>0</th>\n",
       "      <td>32</td>\n",
       "      <td>m</td>\n",
       "      <td>38.5</td>\n",
       "      <td>52.5</td>\n",
       "      <td>7.7</td>\n",
       "      <td>22.1</td>\n",
       "      <td>7.5</td>\n",
       "      <td>3.23</td>\n",
       "      <td>106.0</td>\n",
       "      <td>0</td>\n",
       "    </tr>\n",
       "    <tr>\n",
       "      <th>1</th>\n",
       "      <td>32</td>\n",
       "      <td>m</td>\n",
       "      <td>38.5</td>\n",
       "      <td>70.3</td>\n",
       "      <td>18.0</td>\n",
       "      <td>24.7</td>\n",
       "      <td>3.9</td>\n",
       "      <td>4.80</td>\n",
       "      <td>74.0</td>\n",
       "      <td>0</td>\n",
       "    </tr>\n",
       "    <tr>\n",
       "      <th>2</th>\n",
       "      <td>32</td>\n",
       "      <td>m</td>\n",
       "      <td>46.9</td>\n",
       "      <td>74.7</td>\n",
       "      <td>36.2</td>\n",
       "      <td>52.6</td>\n",
       "      <td>6.1</td>\n",
       "      <td>5.20</td>\n",
       "      <td>86.0</td>\n",
       "      <td>0</td>\n",
       "    </tr>\n",
       "    <tr>\n",
       "      <th>3</th>\n",
       "      <td>32</td>\n",
       "      <td>m</td>\n",
       "      <td>43.2</td>\n",
       "      <td>52.0</td>\n",
       "      <td>30.6</td>\n",
       "      <td>22.6</td>\n",
       "      <td>18.9</td>\n",
       "      <td>4.74</td>\n",
       "      <td>80.0</td>\n",
       "      <td>0</td>\n",
       "    </tr>\n",
       "    <tr>\n",
       "      <th>4</th>\n",
       "      <td>32</td>\n",
       "      <td>m</td>\n",
       "      <td>39.2</td>\n",
       "      <td>74.1</td>\n",
       "      <td>32.6</td>\n",
       "      <td>24.8</td>\n",
       "      <td>9.6</td>\n",
       "      <td>4.32</td>\n",
       "      <td>76.0</td>\n",
       "      <td>0</td>\n",
       "    </tr>\n",
       "    <tr>\n",
       "      <th>...</th>\n",
       "      <td>...</td>\n",
       "      <td>...</td>\n",
       "      <td>...</td>\n",
       "      <td>...</td>\n",
       "      <td>...</td>\n",
       "      <td>...</td>\n",
       "      <td>...</td>\n",
       "      <td>...</td>\n",
       "      <td>...</td>\n",
       "      <td>...</td>\n",
       "    </tr>\n",
       "    <tr>\n",
       "      <th>610</th>\n",
       "      <td>62</td>\n",
       "      <td>f</td>\n",
       "      <td>32.0</td>\n",
       "      <td>416.6</td>\n",
       "      <td>5.9</td>\n",
       "      <td>110.3</td>\n",
       "      <td>50.0</td>\n",
       "      <td>6.30</td>\n",
       "      <td>55.7</td>\n",
       "      <td>1</td>\n",
       "    </tr>\n",
       "    <tr>\n",
       "      <th>611</th>\n",
       "      <td>64</td>\n",
       "      <td>f</td>\n",
       "      <td>24.0</td>\n",
       "      <td>102.8</td>\n",
       "      <td>2.9</td>\n",
       "      <td>44.4</td>\n",
       "      <td>20.0</td>\n",
       "      <td>3.02</td>\n",
       "      <td>63.0</td>\n",
       "      <td>1</td>\n",
       "    </tr>\n",
       "    <tr>\n",
       "      <th>612</th>\n",
       "      <td>64</td>\n",
       "      <td>f</td>\n",
       "      <td>29.0</td>\n",
       "      <td>87.3</td>\n",
       "      <td>3.5</td>\n",
       "      <td>99.0</td>\n",
       "      <td>48.0</td>\n",
       "      <td>3.63</td>\n",
       "      <td>66.7</td>\n",
       "      <td>1</td>\n",
       "    </tr>\n",
       "    <tr>\n",
       "      <th>613</th>\n",
       "      <td>46</td>\n",
       "      <td>f</td>\n",
       "      <td>33.0</td>\n",
       "      <td>NaN</td>\n",
       "      <td>39.0</td>\n",
       "      <td>62.0</td>\n",
       "      <td>20.0</td>\n",
       "      <td>4.20</td>\n",
       "      <td>52.0</td>\n",
       "      <td>1</td>\n",
       "    </tr>\n",
       "    <tr>\n",
       "      <th>614</th>\n",
       "      <td>59</td>\n",
       "      <td>f</td>\n",
       "      <td>36.0</td>\n",
       "      <td>NaN</td>\n",
       "      <td>100.0</td>\n",
       "      <td>80.0</td>\n",
       "      <td>12.0</td>\n",
       "      <td>5.30</td>\n",
       "      <td>67.0</td>\n",
       "      <td>1</td>\n",
       "    </tr>\n",
       "  </tbody>\n",
       "</table>\n",
       "<p>615 rows × 10 columns</p>\n",
       "</div>"
      ],
      "text/plain": [
       "     Age Sex   ALB    ALP    ALT    AST   BIL  CHOL   CREA  Category\n",
       "0     32   m  38.5   52.5    7.7   22.1   7.5  3.23  106.0         0\n",
       "1     32   m  38.5   70.3   18.0   24.7   3.9  4.80   74.0         0\n",
       "2     32   m  46.9   74.7   36.2   52.6   6.1  5.20   86.0         0\n",
       "3     32   m  43.2   52.0   30.6   22.6  18.9  4.74   80.0         0\n",
       "4     32   m  39.2   74.1   32.6   24.8   9.6  4.32   76.0         0\n",
       "..   ...  ..   ...    ...    ...    ...   ...   ...    ...       ...\n",
       "610   62   f  32.0  416.6    5.9  110.3  50.0  6.30   55.7         1\n",
       "611   64   f  24.0  102.8    2.9   44.4  20.0  3.02   63.0         1\n",
       "612   64   f  29.0   87.3    3.5   99.0  48.0  3.63   66.7         1\n",
       "613   46   f  33.0    NaN   39.0   62.0  20.0  4.20   52.0         1\n",
       "614   59   f  36.0    NaN  100.0   80.0  12.0  5.30   67.0         1\n",
       "\n",
       "[615 rows x 10 columns]"
      ]
     },
     "execution_count": 3,
     "metadata": {},
     "output_type": "execute_result"
    }
   ],
   "source": [
    "# Здесь можно проверить что было загруженно в переменную df.\n",
    "df"
   ]
  },
  {
   "cell_type": "code",
   "execution_count": 4,
   "metadata": {},
   "outputs": [],
   "source": [
    "# Для последующей корректной работы проверим наш датасет на пропуски.\n",
    "def fill_missing_num(x):\n",
    "    num_var = list(x._get_numeric_data().columns)\n",
    "    for col_names in num_var:        \n",
    "        prep_med = SimpleImputer(missing_values=np.nan, strategy='mean')\n",
    "        prep_med.fit(x[num_var])\n",
    "        x[num_var] = prep_med.transform(x[num_var])\n",
    "    return(x)"
   ]
  },
  {
   "cell_type": "code",
   "execution_count": 5,
   "metadata": {},
   "outputs": [],
   "source": [
    "# Заполним присутствующие пропуски с помощью SimpleImputer.\n",
    "from sklearn.impute import SimpleImputer\n",
    "df = fill_missing_num(df)"
   ]
  },
  {
   "cell_type": "code",
   "execution_count": 6,
   "metadata": {},
   "outputs": [],
   "source": [
    "# С пмощью этой чанки мы произведем кодиррование наших качественных перменных, в нашем случае только столбец Sex.\n",
    "def encoding_char(x):\n",
    "    char_var = list(set(x.columns) - set(x._get_numeric_data().columns))\n",
    "    for col_names in char_var:\n",
    "        f = pd.factorize(x[col_names])\n",
    "        x[col_names] = pd.factorize(x[col_names])[0]\n",
    "    return(x)"
   ]
  },
  {
   "cell_type": "code",
   "execution_count": 8,
   "metadata": {},
   "outputs": [],
   "source": [
    "df = encoding_char(df)"
   ]
  },
  {
   "cell_type": "code",
   "execution_count": 9,
   "metadata": {},
   "outputs": [],
   "source": [
    "# Наш датасет следует разделить на тестовый и учебный в определенной пропорции. Пусть это будет  20/80.\n",
    "X = df.iloc[:, :-1].values\n",
    "y = df.iloc[:, -1].values\n",
    "from sklearn.model_selection import train_test_split\n",
    "X_train, X_test, y_train, y_test = train_test_split(X, y, test_size=0.2, random_state=13)"
   ]
  },
  {
   "cell_type": "code",
   "execution_count": 10,
   "metadata": {},
   "outputs": [],
   "source": [
    "# Производим шкалирование наших данных без нашей эдогенной переменной Category.\n",
    "from sklearn.preprocessing import StandardScaler\n",
    "sc_X = StandardScaler().fit(X_train)\n",
    "X_train = sc_X.transform(X_train)\n",
    "X_test = sc_X.transform(X_test)"
   ]
  },
  {
   "cell_type": "code",
   "execution_count": 11,
   "metadata": {},
   "outputs": [
    {
     "name": "stdout",
     "output_type": "stream",
     "text": [
      "Optimization terminated successfully.\n",
      "         Current function value: 0.305797\n",
      "         Iterations 8\n",
      "                         Results: Logit\n",
      "=================================================================\n",
      "Model:              Logit            Pseudo R-squared: 0.232     \n",
      "Dependent Variable: y                AIC:              318.9038  \n",
      "Date:               2020-11-23 19:51 BIC:              356.6901  \n",
      "No. Observations:   492              Log-Likelihood:   -150.45   \n",
      "Df Model:           8                LL-Null:          -195.80   \n",
      "Df Residuals:       483              LLR p-value:      3.3608e-16\n",
      "Converged:          1.0000           Scale:            1.0000    \n",
      "No. Iterations:     8.0000                                       \n",
      "--------------------------------------------------------------------\n",
      "       Coef.     Std.Err.       z       P>|z|      [0.025     0.975]\n",
      "--------------------------------------------------------------------\n",
      "x1    -0.0645      0.1583    -0.4075    0.6837    -0.3748     0.2458\n",
      "x2     0.1800      0.1643     1.0957    0.2732    -0.1420     0.5020\n",
      "x3    -0.5571      0.1949    -2.8583    0.0043    -0.9391    -0.1751\n",
      "x4    -0.1794      0.2299    -0.7804    0.4352    -0.6300     0.2712\n",
      "x5    -1.4845      0.2320    -6.3980    0.0000    -1.9393    -1.0298\n",
      "x6     7.4373      0.6490    11.4592    0.0000     6.1652     8.7094\n",
      "x7     1.4003      0.3780     3.7047    0.0002     0.6595     2.1411\n",
      "x8    -0.1487      0.1712    -0.8684    0.3852    -0.4842     0.1869\n",
      "x9     0.0821      0.1854     0.4431    0.6577    -0.2812     0.4455\n",
      "=================================================================\n",
      "\n"
     ]
    }
   ],
   "source": [
    "# Строим базовую модель и анализируем  полученный отчет. Можно сделать вывод, что значимых перменных три но при этом будем использовать найлучшие перменные, это х4 (ALT) и х5 (AST). Будем использовать их для построения наших классификаторов.\n",
    "import statsmodels.api as sm\n",
    "lr = sm.Logit(y_train, X_train).fit()\n",
    "print(lr.summary2())"
   ]
  },
  {
   "cell_type": "code",
   "execution_count": 12,
   "metadata": {},
   "outputs": [],
   "source": [
    "# Остлавляем только значимые переменные.\n",
    "X_train = X_train[:,[4,5]]\n",
    "X_test = X_test[:,[4,5]]"
   ]
  },
  {
   "cell_type": "code",
   "execution_count": 13,
   "metadata": {},
   "outputs": [],
   "source": [
    "# Обучаем модель логистической регрессии.\n",
    "from sklearn.linear_model import LogisticRegression\n",
    "lr = LogisticRegression(random_state = 13).fit(X_train, y_train)"
   ]
  },
  {
   "cell_type": "code",
   "execution_count": 14,
   "metadata": {},
   "outputs": [
    {
     "data": {
      "text/plain": [
       "0.959349593495935"
      ]
     },
     "execution_count": 14,
     "metadata": {},
     "output_type": "execute_result"
    }
   ],
   "source": [
    "# Делаем прогноз на тестовой выборке. Уровень качества модели превышает 95%, это значит что  95% объектов распознано верно.\n",
    "y_pred = lr.predict(X_test)\n",
    "lr.score(X_test,y_test)"
   ]
  },
  {
   "cell_type": "code",
   "execution_count": 15,
   "metadata": {},
   "outputs": [
    {
     "name": "stdout",
     "output_type": "stream",
     "text": [
      "[[108   0]\n",
      " [  5  10]]\n"
     ]
    }
   ],
   "source": [
    "# Строим таблицу сопряженности. Можно сделать вывод, что 5 положительных случая ложно определены как отрицательные. \n",
    "from sklearn.metrics import confusion_matrix\n",
    "cm = confusion_matrix(y_test, y_pred)\n",
    "print(cm)"
   ]
  },
  {
   "cell_type": "code",
   "execution_count": 16,
   "metadata": {},
   "outputs": [
    {
     "name": "stderr",
     "output_type": "stream",
     "text": [
      "*c* argument looks like a single numeric RGB or RGBA sequence, which should be avoided as value-mapping will have precedence in case its length matches with *x* & *y*.  Please use the *color* keyword-argument or provide a 2-D array with a single row if you intend to specify the same RGB or RGBA value for all points.\n",
      "*c* argument looks like a single numeric RGB or RGBA sequence, which should be avoided as value-mapping will have precedence in case its length matches with *x* & *y*.  Please use the *color* keyword-argument or provide a 2-D array with a single row if you intend to specify the same RGB or RGBA value for all points.\n"
     ]
    },
    {
     "data": {
      "image/png": "[encoded data removed]",
      "text/plain": [
       "<Figure size 432x288 with 1 Axes>"
      ]
     },
     "metadata": {
      "needs_background": "light"
     },
     "output_type": "display_data"
    }
   ],
   "source": [
    "# Строим область значений. В этом случае отделение линейно. Зелёные точки - больные люди, красные точки - здоровые. Люди с повышенным значением AST более склонны к болезни. \n",
    "from matplotlib.colors import ListedColormap\n",
    "X_set, y_set = X_test, y_test\n",
    "X1, X2 = np.meshgrid(np.arange(start = X_set[:, 0].min() - 1, stop = X_set[:, 0].max() + 1, step = 0.01),\n",
    "                     np.arange(start = X_set[:, 1].min() - 1, stop = X_set[:, 1].max() + 1, step = 0.01))\n",
    "plt.contourf(X1, X2, lr.predict(np.array([X1.ravel(), X2.ravel()]).T).reshape(X1.shape),\n",
    "             alpha = 0.75, cmap = ListedColormap(('red', 'green')))\n",
    "plt.xlim(X1.min(), X1.max())\n",
    "plt.ylim(X2.min(), X2.max())\n",
    "for i, j in enumerate(np.unique(y_set)):\n",
    "    plt.scatter(X_set[y_set == j, 0], X_set[y_set == j, 1],\n",
    "                c = ListedColormap(('red', 'green'))(i), label = j)\n",
    "plt.title('Logistic Regression (Test set)')\n",
    "plt.xlabel('ALT')\n",
    "plt.ylabel('AST')\n",
    "plt.legend()\n",
    "plt.show()"
   ]
  },
  {
   "cell_type": "code",
   "execution_count": 17,
   "metadata": {},
   "outputs": [],
   "source": [
    "# Устанавливаем необходимые пакеты Keras.\n",
    "import keras\n",
    "from keras.models import Sequential\n",
    "from keras.layers import Dense"
   ]
  },
  {
   "cell_type": "code",
   "execution_count": 19,
   "metadata": {},
   "outputs": [],
   "source": [
    "# Строим нейронную сеть прямой передачи сигнала. На входном слое 8 нейрона. relu - функция  позволит учесть наличие линейнносоти в исходных данных. На втором слое выбирем 1 нейрон используя сигмоидальную функцию. \n",
    "cnn = Sequential()\n",
    "cnn.add(Dense(units = 8,  activation = 'relu', input_dim = 2))\n",
    "cnn.add(Dense(units = 1,  activation = 'sigmoid'))\n",
    "cnn.compile(optimizer = 'adam', loss = 'binary_crossentropy', metrics = ['accuracy'])"
   ]
  },
  {
   "cell_type": "code",
   "execution_count": 20,
   "metadata": {},
   "outputs": [
    {
     "name": "stdout",
     "output_type": "stream",
     "text": [
      "Epoch 1/100\n",
      "62/62 [==============================] - 0s 3ms/step - loss: 0.6719 - accuracy: 0.7398\n",
      "Epoch 2/100\n",
      "62/62 [==============================] - 0s 2ms/step - loss: 0.5587 - accuracy: 0.8496\n",
      "Epoch 3/100\n",
      "62/62 [==============================] - 0s 2ms/step - loss: 0.4700 - accuracy: 0.8679\n",
      "Epoch 4/100\n",
      "62/62 [==============================] - 0s 2ms/step - loss: 0.4043 - accuracy: 0.8679\n",
      "Epoch 5/100\n",
      "62/62 [==============================] - 0s 2ms/step - loss: 0.3564 - accuracy: 0.8720\n",
      "Epoch 6/100\n",
      "62/62 [==============================] - 0s 2ms/step - loss: 0.3206 - accuracy: 0.8780\n",
      "Epoch 7/100\n",
      "62/62 [==============================] - 0s 2ms/step - loss: 0.2950 - accuracy: 0.8780\n",
      "Epoch 8/100\n",
      "62/62 [==============================] - 0s 2ms/step - loss: 0.2756 - accuracy: 0.8780\n",
      "Epoch 9/100\n",
      "62/62 [==============================] - 0s 2ms/step - loss: 0.2606 - accuracy: 0.8760\n",
      "Epoch 10/100\n",
      "62/62 [==============================] - 0s 2ms/step - loss: 0.2487 - accuracy: 0.8760\n",
      "Epoch 11/100\n",
      "62/62 [==============================] - 0s 2ms/step - loss: 0.2395 - accuracy: 0.8760\n",
      "Epoch 12/100\n",
      "62/62 [==============================] - 0s 2ms/step - loss: 0.2325 - accuracy: 0.8760\n",
      "Epoch 13/100\n",
      "62/62 [==============================] - 0s 2ms/step - loss: 0.2265 - accuracy: 0.8740\n",
      "Epoch 14/100\n",
      "62/62 [==============================] - 0s 2ms/step - loss: 0.2217 - accuracy: 0.8740\n",
      "Epoch 15/100\n",
      "62/62 [==============================] - 0s 2ms/step - loss: 0.2171 - accuracy: 0.8740\n",
      "Epoch 16/100\n",
      "62/62 [==============================] - 0s 2ms/step - loss: 0.2128 - accuracy: 0.8760\n",
      "Epoch 17/100\n",
      "62/62 [==============================] - 0s 2ms/step - loss: 0.2084 - accuracy: 0.8862\n",
      "Epoch 18/100\n",
      "62/62 [==============================] - 0s 2ms/step - loss: 0.2043 - accuracy: 0.8963\n",
      "Epoch 19/100\n",
      "62/62 [==============================] - 0s 2ms/step - loss: 0.2001 - accuracy: 0.9126\n",
      "Epoch 20/100\n",
      "62/62 [==============================] - 0s 2ms/step - loss: 0.1958 - accuracy: 0.9350\n",
      "Epoch 21/100\n",
      "62/62 [==============================] - 0s 2ms/step - loss: 0.1916 - accuracy: 0.9390\n",
      "Epoch 22/100\n",
      "62/62 [==============================] - 0s 3ms/step - loss: 0.1872 - accuracy: 0.9411\n",
      "Epoch 23/100\n",
      "62/62 [==============================] - 0s 3ms/step - loss: 0.1830 - accuracy: 0.9390\n",
      "Epoch 24/100\n",
      "62/62 [==============================] - 0s 4ms/step - loss: 0.1791 - accuracy: 0.9390\n",
      "Epoch 25/100\n",
      "62/62 [==============================] - 0s 2ms/step - loss: 0.1750 - accuracy: 0.9472\n",
      "Epoch 26/100\n",
      "62/62 [==============================] - 0s 2ms/step - loss: 0.1711 - accuracy: 0.9472\n",
      "Epoch 27/100\n",
      "62/62 [==============================] - 0s 2ms/step - loss: 0.1673 - accuracy: 0.9451\n",
      "Epoch 28/100\n",
      "62/62 [==============================] - 0s 2ms/step - loss: 0.1639 - accuracy: 0.9451\n",
      "Epoch 29/100\n",
      "62/62 [==============================] - 0s 2ms/step - loss: 0.1606 - accuracy: 0.9451\n",
      "Epoch 30/100\n",
      "62/62 [==============================] - 0s 2ms/step - loss: 0.1570 - accuracy: 0.9472\n",
      "Epoch 31/100\n",
      "62/62 [==============================] - 0s 2ms/step - loss: 0.1538 - accuracy: 0.9451\n",
      "Epoch 32/100\n",
      "62/62 [==============================] - 0s 2ms/step - loss: 0.1507 - accuracy: 0.9451\n",
      "Epoch 33/100\n",
      "62/62 [==============================] - 0s 2ms/step - loss: 0.1482 - accuracy: 0.9451\n",
      "Epoch 34/100\n",
      "62/62 [==============================] - 0s 2ms/step - loss: 0.1460 - accuracy: 0.9411\n",
      "Epoch 35/100\n",
      "62/62 [==============================] - 0s 2ms/step - loss: 0.1445 - accuracy: 0.9431\n",
      "Epoch 36/100\n",
      "62/62 [==============================] - 0s 2ms/step - loss: 0.1436 - accuracy: 0.9451\n",
      "Epoch 37/100\n",
      "62/62 [==============================] - 0s 3ms/step - loss: 0.1418 - accuracy: 0.9431\n",
      "Epoch 38/100\n",
      "62/62 [==============================] - 0s 2ms/step - loss: 0.1409 - accuracy: 0.9451\n",
      "Epoch 39/100\n",
      "62/62 [==============================] - 0s 2ms/step - loss: 0.1401 - accuracy: 0.9451\n",
      "Epoch 40/100\n",
      "62/62 [==============================] - 0s 2ms/step - loss: 0.1396 - accuracy: 0.9451\n",
      "Epoch 41/100\n",
      "62/62 [==============================] - 0s 2ms/step - loss: 0.1382 - accuracy: 0.9431\n",
      "Epoch 42/100\n",
      "62/62 [==============================] - 0s 2ms/step - loss: 0.1377 - accuracy: 0.9431\n",
      "Epoch 43/100\n",
      "62/62 [==============================] - 0s 2ms/step - loss: 0.1369 - accuracy: 0.9431\n",
      "Epoch 44/100\n",
      "62/62 [==============================] - 0s 3ms/step - loss: 0.1366 - accuracy: 0.9472: 0s - loss: 0.1530 - accuracy: \n",
      "Epoch 45/100\n",
      "62/62 [==============================] - 0s 3ms/step - loss: 0.1357 - accuracy: 0.9472\n",
      "Epoch 46/100\n",
      "62/62 [==============================] - 0s 2ms/step - loss: 0.1353 - accuracy: 0.9492\n",
      "Epoch 47/100\n",
      "62/62 [==============================] - 0s 2ms/step - loss: 0.1345 - accuracy: 0.9492\n",
      "Epoch 48/100\n",
      "62/62 [==============================] - 0s 2ms/step - loss: 0.1342 - accuracy: 0.9492\n",
      "Epoch 49/100\n",
      "62/62 [==============================] - 0s 2ms/step - loss: 0.1339 - accuracy: 0.9492\n",
      "Epoch 50/100\n",
      "62/62 [==============================] - 0s 2ms/step - loss: 0.1332 - accuracy: 0.9492\n",
      "Epoch 51/100\n",
      "62/62 [==============================] - 0s 2ms/step - loss: 0.1331 - accuracy: 0.9492\n",
      "Epoch 52/100\n",
      "62/62 [==============================] - 0s 2ms/step - loss: 0.1325 - accuracy: 0.9512\n",
      "Epoch 53/100\n",
      "62/62 [==============================] - 0s 2ms/step - loss: 0.1321 - accuracy: 0.9512\n",
      "Epoch 54/100\n",
      "62/62 [==============================] - 0s 3ms/step - loss: 0.1319 - accuracy: 0.9512\n",
      "Epoch 55/100\n",
      "62/62 [==============================] - 0s 2ms/step - loss: 0.1316 - accuracy: 0.9512\n",
      "Epoch 56/100\n",
      "62/62 [==============================] - 0s 2ms/step - loss: 0.1313 - accuracy: 0.9512\n",
      "Epoch 57/100\n",
      "62/62 [==============================] - 0s 2ms/step - loss: 0.1313 - accuracy: 0.9512\n",
      "Epoch 58/100\n",
      "62/62 [==============================] - 0s 2ms/step - loss: 0.1307 - accuracy: 0.9533\n",
      "Epoch 59/100\n",
      "62/62 [==============================] - 0s 2ms/step - loss: 0.1305 - accuracy: 0.9533\n",
      "Epoch 60/100\n",
      "62/62 [==============================] - 0s 2ms/step - loss: 0.1302 - accuracy: 0.9533\n",
      "Epoch 61/100\n",
      "62/62 [==============================] - 0s 2ms/step - loss: 0.1301 - accuracy: 0.9533\n",
      "Epoch 62/100\n",
      "62/62 [==============================] - 0s 2ms/step - loss: 0.1298 - accuracy: 0.9533\n",
      "Epoch 63/100\n",
      "62/62 [==============================] - 0s 2ms/step - loss: 0.1299 - accuracy: 0.9533\n",
      "Epoch 64/100\n",
      "62/62 [==============================] - 0s 2ms/step - loss: 0.1295 - accuracy: 0.9533\n",
      "Epoch 65/100\n",
      "62/62 [==============================] - 0s 2ms/step - loss: 0.1292 - accuracy: 0.9533\n",
      "Epoch 66/100\n",
      "62/62 [==============================] - 0s 2ms/step - loss: 0.1292 - accuracy: 0.9533\n",
      "Epoch 67/100\n",
      "62/62 [==============================] - 0s 2ms/step - loss: 0.1292 - accuracy: 0.9573\n",
      "Epoch 68/100\n",
      "62/62 [==============================] - 0s 2ms/step - loss: 0.1286 - accuracy: 0.9533\n",
      "Epoch 69/100\n",
      "62/62 [==============================] - 0s 2ms/step - loss: 0.1284 - accuracy: 0.9553\n",
      "Epoch 70/100\n",
      "62/62 [==============================] - 0s 2ms/step - loss: 0.1282 - accuracy: 0.9573\n",
      "Epoch 71/100\n",
      "62/62 [==============================] - 0s 2ms/step - loss: 0.1285 - accuracy: 0.9553\n",
      "Epoch 72/100\n",
      "62/62 [==============================] - 0s 1ms/step - loss: 0.1279 - accuracy: 0.9573\n",
      "Epoch 73/100\n",
      "62/62 [==============================] - 0s 1ms/step - loss: 0.1278 - accuracy: 0.9573\n",
      "Epoch 74/100\n",
      "62/62 [==============================] - 0s 2ms/step - loss: 0.1277 - accuracy: 0.9553\n",
      "Epoch 75/100\n",
      "62/62 [==============================] - 0s 2ms/step - loss: 0.1273 - accuracy: 0.9573\n",
      "Epoch 76/100\n",
      "62/62 [==============================] - 0s 3ms/step - loss: 0.1273 - accuracy: 0.9593\n",
      "Epoch 77/100\n",
      "62/62 [==============================] - 0s 2ms/step - loss: 0.1270 - accuracy: 0.9573: 0s - loss: 0.1149 - accuracy: 0.\n",
      "Epoch 78/100\n",
      "62/62 [==============================] - 0s 3ms/step - loss: 0.1268 - accuracy: 0.9593\n",
      "Epoch 79/100\n",
      "62/62 [==============================] - 0s 2ms/step - loss: 0.1267 - accuracy: 0.9593: 0s - loss: 0.0625 - accuracy: 0.\n",
      "Epoch 80/100\n",
      "62/62 [==============================] - 0s 2ms/step - loss: 0.1267 - accuracy: 0.9573\n",
      "Epoch 81/100\n",
      "62/62 [==============================] - 0s 2ms/step - loss: 0.1266 - accuracy: 0.9614\n",
      "Epoch 82/100\n"
     ]
    },
    {
     "name": "stdout",
     "output_type": "stream",
     "text": [
      "62/62 [==============================] - 0s 1ms/step - loss: 0.1262 - accuracy: 0.9614\n",
      "Epoch 83/100\n",
      "62/62 [==============================] - 0s 2ms/step - loss: 0.1267 - accuracy: 0.9614\n",
      "Epoch 84/100\n",
      "62/62 [==============================] - 0s 1ms/step - loss: 0.1260 - accuracy: 0.9614\n",
      "Epoch 85/100\n",
      "62/62 [==============================] - 0s 2ms/step - loss: 0.1257 - accuracy: 0.9614\n",
      "Epoch 86/100\n",
      "62/62 [==============================] - 0s 2ms/step - loss: 0.1256 - accuracy: 0.9614\n",
      "Epoch 87/100\n",
      "62/62 [==============================] - 0s 2ms/step - loss: 0.1254 - accuracy: 0.9614\n",
      "Epoch 88/100\n",
      "62/62 [==============================] - 0s 2ms/step - loss: 0.1251 - accuracy: 0.9614\n",
      "Epoch 89/100\n",
      "62/62 [==============================] - 0s 3ms/step - loss: 0.1250 - accuracy: 0.9614\n",
      "Epoch 90/100\n",
      "62/62 [==============================] - 0s 2ms/step - loss: 0.1252 - accuracy: 0.9614\n",
      "Epoch 91/100\n",
      "62/62 [==============================] - 0s 1ms/step - loss: 0.1251 - accuracy: 0.9614\n",
      "Epoch 92/100\n",
      "62/62 [==============================] - 0s 2ms/step - loss: 0.1246 - accuracy: 0.9614\n",
      "Epoch 93/100\n",
      "62/62 [==============================] - 0s 2ms/step - loss: 0.1245 - accuracy: 0.9614\n",
      "Epoch 94/100\n",
      "62/62 [==============================] - 0s 3ms/step - loss: 0.1242 - accuracy: 0.9614\n",
      "Epoch 95/100\n",
      "62/62 [==============================] - 0s 2ms/step - loss: 0.1242 - accuracy: 0.9614\n",
      "Epoch 96/100\n",
      "62/62 [==============================] - 0s 2ms/step - loss: 0.1240 - accuracy: 0.9614\n",
      "Epoch 97/100\n",
      "62/62 [==============================] - 0s 2ms/step - loss: 0.1238 - accuracy: 0.9614\n",
      "Epoch 98/100\n",
      "62/62 [==============================] - 0s 2ms/step - loss: 0.1237 - accuracy: 0.9614\n",
      "Epoch 99/100\n",
      "62/62 [==============================] - 0s 2ms/step - loss: 0.1236 - accuracy: 0.9614\n",
      "Epoch 100/100\n",
      "62/62 [==============================] - 0s 2ms/step - loss: 0.1238 - accuracy: 0.9614\n"
     ]
    },
    {
     "data": {
      "text/plain": [
       "<tensorflow.python.keras.callbacks.History at 0x247e786e880>"
      ]
     },
     "execution_count": 20,
     "metadata": {},
     "output_type": "execute_result"
    }
   ],
   "source": [
    "# Обучаем нейронную сеть в течении 100 эпох.\n",
    "cnn.fit(X_train, y_train, epochs = 100, batch_size = 8)"
   ]
  },
  {
   "cell_type": "code",
   "execution_count": 21,
   "metadata": {},
   "outputs": [],
   "source": [
    "# Строим прогноз на тестовой выборке.\n",
    "y_pred = cnn.predict(X_test)\n",
    "y_pred = (y_pred > 0.5)"
   ]
  },
  {
   "cell_type": "code",
   "execution_count": 22,
   "metadata": {},
   "outputs": [
    {
     "name": "stdout",
     "output_type": "stream",
     "text": [
      "[[108   0]\n",
      " [  3  12]]\n"
     ]
    }
   ],
   "source": [
    "# Строим таблицу сопряженности. Исходя из этого  3 положительных случая ложно определены как отрицательные.\n",
    "from sklearn.metrics import confusion_matrix\n",
    "cm = confusion_matrix(y_test, y_pred)\n",
    "print(cm)"
   ]
  },
  {
   "cell_type": "code",
   "execution_count": 23,
   "metadata": {},
   "outputs": [
    {
     "name": "stderr",
     "output_type": "stream",
     "text": [
      "*c* argument looks like a single numeric RGB or RGBA sequence, which should be avoided as value-mapping will have precedence in case its length matches with *x* & *y*.  Please use the *color* keyword-argument or provide a 2-D array with a single row if you intend to specify the same RGB or RGBA value for all points.\n",
      "*c* argument looks like a single numeric RGB or RGBA sequence, which should be avoided as value-mapping will have precedence in case its length matches with *x* & *y*.  Please use the *color* keyword-argument or provide a 2-D array with a single row if you intend to specify the same RGB or RGBA value for all points.\n"
     ]
    },
    {
     "data": {
      "image/png": "[encoded data removed]",
      "text/plain": [
       "<Figure size 432x288 with 1 Axes>"
      ]
     },
     "metadata": {
      "needs_background": "light"
     },
     "output_type": "display_data"
    }
   ],
   "source": [
    "# Строим область значений. Они отделяются  не линейно. Однако после усложения модели после увеличения входных нейронов с 2 до 8, качество модели улучшилось. \n",
    "from matplotlib.colors import ListedColormap\n",
    "X_set, y_set = X_test, y_test\n",
    "X1, X2 = np.meshgrid(np.arange(start = X_set[:, 0].min() - 1, stop = X_set[:, 0].max() + 1, step = 0.01),\n",
    "                     np.arange(start = X_set[:, 1].min() - 1, stop = X_set[:, 1].max() + 1, step = 0.01))\n",
    "plt.contourf(X1, X2, cnn.predict(np.array([X1.ravel(), X2.ravel()]).T).reshape(X1.shape),\n",
    "             alpha = 0.75, cmap = ListedColormap(('red', 'green')))\n",
    "plt.xlim(X1.min(), X1.max())\n",
    "plt.ylim(X2.min(), X2.max())\n",
    "for i, j in enumerate(np.unique(y_set)):\n",
    "    plt.scatter(X_set[y_set == j, 0], X_set[y_set == j, 1],\n",
    "                c = ListedColormap(('red', 'green'))(i), label = j)\n",
    "plt.title('NN (Test set)')\n",
    "plt.xlabel('ALT')\n",
    "plt.ylabel('AST')\n",
    "plt.legend()\n",
    "plt.show()"
   ]
  },
  {
   "cell_type": "code",
   "execution_count": null,
   "metadata": {},
   "outputs": [],
   "source": [
    "# Выводы. Исходя из анализа можно сделать вывод, что исходная логистическая модель обладает повышенным качеством и определяет 95% объектов верно. Еще я бы отметил, что позитивные и негативные значения отделяются линейно. Эту линейность мы используем для построения нейронной сети. При использовании стандартных параметров мы получаем качество модели худше, но при этом сохраняется линейность отделения позитивных от негативных. Для улучшения качества модели было принято решение увеличить количество нейронов на первом слое с 2 до 8, что позволило немного улучшить качество модели в целом, однако разделение положительных от отрицательных более не линейно."
   ]
  }
 ],
 "metadata": {
  "kernelspec": {
   "display_name": "Python 3",
   "language": "python",
   "name": "python3"
  },
  "language_info": {
   "codemirror_mode": {
    "name": "ipython",
    "version": 3
   },
   "file_extension": ".py",
   "mimetype": "text/x-python",
   "name": "python",
   "nbconvert_exporter": "python",
   "pygments_lexer": "ipython3",
   "version": "3.8.3"
  }
 },
 "nbformat": 4,
 "nbformat_minor": 4
}
