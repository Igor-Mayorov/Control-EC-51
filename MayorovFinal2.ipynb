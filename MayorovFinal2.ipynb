{
 "cells": [
  {
   "cell_type": "code",
   "execution_count": 1,
   "metadata": {},
   "outputs": [],
   "source": [
    "#Загружаем наш дата сет. Столбец price был трансфомирован по определенному правилу. Если цена была меньше 150тыс то 0 если больше то 1."
   ]
  },
  {
   "cell_type": "code",
   "execution_count": 2,
   "metadata": {},
   "outputs": [],
   "source": [
    "# С помощью этой чанки мы загрузим  необходимые библиотеки для начала работы (Numpy, Matplotlib.pyplot ,Pandas)\n",
    "import numpy as np\n",
    "import matplotlib.pyplot as plt\n",
    "import pandas as pd"
   ]
  },
  {
   "cell_type": "code",
   "execution_count": 3,
   "metadata": {},
   "outputs": [],
   "source": [
    "# Загрузим над исходный датасет. \n",
    "df = pd.read_csv('DataFlats2.csv', sep=',' )"
   ]
  },
  {
   "cell_type": "code",
   "execution_count": 4,
   "metadata": {},
   "outputs": [
    {
     "data": {
      "text/html": [
       "<div>\n",
       "<style scoped>\n",
       "    .dataframe tbody tr th:only-of-type {\n",
       "        vertical-align: middle;\n",
       "    }\n",
       "\n",
       "    .dataframe tbody tr th {\n",
       "        vertical-align: top;\n",
       "    }\n",
       "\n",
       "    .dataframe thead th {\n",
       "        text-align: right;\n",
       "    }\n",
       "</style>\n",
       "<table border=\"1\" class=\"dataframe\">\n",
       "  <thead>\n",
       "    <tr style=\"text-align: right;\">\n",
       "      <th></th>\n",
       "      <th>totsp</th>\n",
       "      <th>livesp</th>\n",
       "      <th>kitsp</th>\n",
       "      <th>dist</th>\n",
       "      <th>metrdist</th>\n",
       "      <th>floor</th>\n",
       "      <th>price</th>\n",
       "    </tr>\n",
       "  </thead>\n",
       "  <tbody>\n",
       "    <tr>\n",
       "      <th>0</th>\n",
       "      <td>58</td>\n",
       "      <td>40</td>\n",
       "      <td>6.0</td>\n",
       "      <td>12.5</td>\n",
       "      <td>7</td>\n",
       "      <td>10</td>\n",
       "      <td>0</td>\n",
       "    </tr>\n",
       "    <tr>\n",
       "      <th>1</th>\n",
       "      <td>44</td>\n",
       "      <td>28</td>\n",
       "      <td>6.0</td>\n",
       "      <td>13.5</td>\n",
       "      <td>7</td>\n",
       "      <td>2</td>\n",
       "      <td>0</td>\n",
       "    </tr>\n",
       "    <tr>\n",
       "      <th>2</th>\n",
       "      <td>70</td>\n",
       "      <td>42</td>\n",
       "      <td>6.0</td>\n",
       "      <td>14.5</td>\n",
       "      <td>3</td>\n",
       "      <td>7</td>\n",
       "      <td>0</td>\n",
       "    </tr>\n",
       "    <tr>\n",
       "      <th>3</th>\n",
       "      <td>61</td>\n",
       "      <td>37</td>\n",
       "      <td>6.0</td>\n",
       "      <td>13.5</td>\n",
       "      <td>7</td>\n",
       "      <td>12</td>\n",
       "      <td>0</td>\n",
       "    </tr>\n",
       "    <tr>\n",
       "      <th>4</th>\n",
       "      <td>104</td>\n",
       "      <td>60</td>\n",
       "      <td>11.0</td>\n",
       "      <td>10.5</td>\n",
       "      <td>7</td>\n",
       "      <td>15</td>\n",
       "      <td>1</td>\n",
       "    </tr>\n",
       "    <tr>\n",
       "      <th>...</th>\n",
       "      <td>...</td>\n",
       "      <td>...</td>\n",
       "      <td>...</td>\n",
       "      <td>...</td>\n",
       "      <td>...</td>\n",
       "      <td>...</td>\n",
       "      <td>...</td>\n",
       "    </tr>\n",
       "    <tr>\n",
       "      <th>2035</th>\n",
       "      <td>77</td>\n",
       "      <td>45</td>\n",
       "      <td>10.0</td>\n",
       "      <td>12.0</td>\n",
       "      <td>5</td>\n",
       "      <td>1</td>\n",
       "      <td>0</td>\n",
       "    </tr>\n",
       "    <tr>\n",
       "      <th>2036</th>\n",
       "      <td>60</td>\n",
       "      <td>43</td>\n",
       "      <td>6.0</td>\n",
       "      <td>9.0</td>\n",
       "      <td>5</td>\n",
       "      <td>1</td>\n",
       "      <td>0</td>\n",
       "    </tr>\n",
       "    <tr>\n",
       "      <th>2037</th>\n",
       "      <td>60</td>\n",
       "      <td>46</td>\n",
       "      <td>5.0</td>\n",
       "      <td>10.5</td>\n",
       "      <td>5</td>\n",
       "      <td>1</td>\n",
       "      <td>0</td>\n",
       "    </tr>\n",
       "    <tr>\n",
       "      <th>2038</th>\n",
       "      <td>76</td>\n",
       "      <td>48</td>\n",
       "      <td>10.0</td>\n",
       "      <td>12.5</td>\n",
       "      <td>5</td>\n",
       "      <td>1</td>\n",
       "      <td>0</td>\n",
       "    </tr>\n",
       "    <tr>\n",
       "      <th>2039</th>\n",
       "      <td>64</td>\n",
       "      <td>45</td>\n",
       "      <td>7.0</td>\n",
       "      <td>15.5</td>\n",
       "      <td>5</td>\n",
       "      <td>1</td>\n",
       "      <td>0</td>\n",
       "    </tr>\n",
       "  </tbody>\n",
       "</table>\n",
       "<p>2040 rows × 7 columns</p>\n",
       "</div>"
      ],
      "text/plain": [
       "      totsp  livesp  kitsp  dist  metrdist  floor  price\n",
       "0        58      40    6.0  12.5         7     10      0\n",
       "1        44      28    6.0  13.5         7      2      0\n",
       "2        70      42    6.0  14.5         3      7      0\n",
       "3        61      37    6.0  13.5         7     12      0\n",
       "4       104      60   11.0  10.5         7     15      1\n",
       "...     ...     ...    ...   ...       ...    ...    ...\n",
       "2035     77      45   10.0  12.0         5      1      0\n",
       "2036     60      43    6.0   9.0         5      1      0\n",
       "2037     60      46    5.0  10.5         5      1      0\n",
       "2038     76      48   10.0  12.5         5      1      0\n",
       "2039     64      45    7.0  15.5         5      1      0\n",
       "\n",
       "[2040 rows x 7 columns]"
      ]
     },
     "execution_count": 4,
     "metadata": {},
     "output_type": "execute_result"
    }
   ],
   "source": [
    "# В этой чанке проверяется что было загруженно в переменную df.\n",
    "df"
   ]
  },
  {
   "cell_type": "code",
   "execution_count": 5,
   "metadata": {},
   "outputs": [],
   "source": [
    "# Наш датасет следует разделить на тестовый и учебный в определенной пропорции. Пусть это будет  20/80.\n",
    "X = df.iloc[:, :-1].values\n",
    "y = df.iloc[:, -1].values\n",
    "from sklearn.model_selection import train_test_split\n",
    "X_train, X_test, y_train, y_test = train_test_split(X, y, test_size=0.2, random_state=13)"
   ]
  },
  {
   "cell_type": "code",
   "execution_count": 8,
   "metadata": {},
   "outputs": [],
   "source": [
    "# Производим шкалирование наших данных. Рассчитаем  и оценим в переменной sc_X необходимые параметры шкалирования.\n",
    "from sklearn.preprocessing import StandardScaler\n",
    "sc_X = StandardScaler().fit(X_train)\n",
    "X_train = sc_X.transform(X_train)\n",
    "X_test = sc_X.transform(X_test)"
   ]
  },
  {
   "cell_type": "code",
   "execution_count": 9,
   "metadata": {},
   "outputs": [
    {
     "name": "stdout",
     "output_type": "stream",
     "text": [
      "Optimization terminated successfully.\n",
      "         Current function value: 0.502807\n",
      "         Iterations 6\n",
      "                         Results: Logit\n",
      "=================================================================\n",
      "Model:              Logit            Pseudo R-squared: 0.043     \n",
      "Dependent Variable: y                AIC:              1653.1625 \n",
      "Date:               2020-12-20 14:58 BIC:              1685.5478 \n",
      "No. Observations:   1632             Log-Likelihood:   -820.58   \n",
      "Df Model:           5                LL-Null:          -857.32   \n",
      "Df Residuals:       1626             LLR p-value:      1.9248e-14\n",
      "Converged:          1.0000           Scale:            1.0000    \n",
      "No. Iterations:     6.0000                                       \n",
      "--------------------------------------------------------------------\n",
      "       Coef.     Std.Err.       z       P>|z|      [0.025     0.975]\n",
      "--------------------------------------------------------------------\n",
      "x1     0.8760      0.1941     4.5128    0.0000     0.4955     1.2565\n",
      "x2     0.7636      0.1514     5.0432    0.0000     0.4668     1.0604\n",
      "x3     0.0796      0.1132     0.7037    0.4816    -0.1422     0.3014\n",
      "x4    -0.6011      0.0656    -9.1625    0.0000    -0.7297    -0.4726\n",
      "x5    -0.3072      0.0619    -4.9613    0.0000    -0.4286    -0.1859\n",
      "x6     0.0357      0.0605     0.5891    0.5558    -0.0830     0.1543\n",
      "=================================================================\n",
      "\n"
     ]
    }
   ],
   "source": [
    "# Строим базовую модель и анализируем  полученный отчет. Можно сделать вывод, что значимых перменных 4 Будем использовать 2 переменных для того что бы построить графиких и  для построения наших классификаторов.\n",
    "import statsmodels.api as sm\n",
    "lr = sm.Logit(y_train, X_train).fit()\n",
    "print(lr.summary2())"
   ]
  },
  {
   "cell_type": "code",
   "execution_count": 10,
   "metadata": {},
   "outputs": [],
   "source": [
    "# Остлавляем только значимые переменные. 2 переменных для графика\n",
    "X_train = X_train[:,[0,1]]\n",
    "X_test = X_test[:,[0,1]]"
   ]
  },
  {
   "cell_type": "code",
   "execution_count": 11,
   "metadata": {},
   "outputs": [],
   "source": [
    "# Обучаем модель логистической регрессии.\n",
    "from sklearn.linear_model import LogisticRegression\n",
    "lr = LogisticRegression(random_state = 13).fit(X_train, y_train)"
   ]
  },
  {
   "cell_type": "code",
   "execution_count": 12,
   "metadata": {},
   "outputs": [
    {
     "data": {
      "text/plain": [
       "0.8651960784313726"
      ]
     },
     "execution_count": 12,
     "metadata": {},
     "output_type": "execute_result"
    }
   ],
   "source": [
    "# Делаем прогноз на тестовой выборке. Уровень качества модели превышает 87%, это значит что  87% объектов распознано верно.\n",
    "y_pred = lr.predict(X_test)\n",
    "lr.score(X_test,y_test)"
   ]
  },
  {
   "cell_type": "code",
   "execution_count": 13,
   "metadata": {},
   "outputs": [
    {
     "name": "stdout",
     "output_type": "stream",
     "text": [
      "[[314  18]\n",
      " [ 37  39]]\n"
     ]
    }
   ],
   "source": [
    "# Строим таблицу сопряженности. Можно сделать вывод, что 37 положительных случая ложно определены как отрицательные. 18 негативных исходов определены как позитивные.Модель верно определила 353 объектов.\n",
    "from sklearn.metrics import confusion_matrix\n",
    "cm = confusion_matrix(y_test, y_pred)\n",
    "print(cm)"
   ]
  },
  {
   "cell_type": "code",
   "execution_count": 14,
   "metadata": {},
   "outputs": [
    {
     "name": "stderr",
     "output_type": "stream",
     "text": [
      "*c* argument looks like a single numeric RGB or RGBA sequence, which should be avoided as value-mapping will have precedence in case its length matches with *x* & *y*.  Please use the *color* keyword-argument or provide a 2-D array with a single row if you intend to specify the same RGB or RGBA value for all points.\n",
      "*c* argument looks like a single numeric RGB or RGBA sequence, which should be avoided as value-mapping will have precedence in case its length matches with *x* & *y*.  Please use the *color* keyword-argument or provide a 2-D array with a single row if you intend to specify the same RGB or RGBA value for all points.\n"
     ]
    },
    {
     "data": {
      "image/png": "[encoded data removed]",
      "text/plain": [
       "<Figure size 432x288 with 1 Axes>"
      ]
     },
     "metadata": {
      "needs_background": "light"
     },
     "output_type": "display_data"
    }
   ],
   "source": [
    "# Строим область значений. В этом случае отделение линейно. Зелёные точки - квартиры котоырое стоят больше 150тыс, красные точки - меньше 100тыс.\n",
    "from matplotlib.colors import ListedColormap\n",
    "X_set, y_set = X_test, y_test\n",
    "X1, X2 = np.meshgrid(np.arange(start = X_set[:, 0].min() - 1, stop = X_set[:, 0].max() + 1, step = 0.01),\n",
    "                     np.arange(start = X_set[:, 1].min() - 1, stop = X_set[:, 1].max() + 1, step = 0.01))\n",
    "plt.contourf(X1, X2, lr.predict(np.array([X1.ravel(), X2.ravel()]).T).reshape(X1.shape),\n",
    "             alpha = 0.75, cmap = ListedColormap(('red', 'green')))\n",
    "plt.xlim(X1.min(), X1.max())\n",
    "plt.ylim(X2.min(), X2.max())\n",
    "for i, j in enumerate(np.unique(y_set)):\n",
    "    plt.scatter(X_set[y_set == j, 0], X_set[y_set == j, 1],\n",
    "                c = ListedColormap(('red', 'green'))(i), label = j)\n",
    "plt.title('Logistic Regression (Test set)')\n",
    "plt.xlabel('exp')\n",
    "plt.ylabel('cheap')\n",
    "plt.legend()\n",
    "plt.show()"
   ]
  },
  {
   "cell_type": "code",
   "execution_count": 15,
   "metadata": {},
   "outputs": [],
   "source": [
    "# Устанавливаем необходимые пакеты Keras.\n",
    "import keras\n",
    "from keras.models import Sequential\n",
    "from keras.layers import Dense"
   ]
  },
  {
   "cell_type": "code",
   "execution_count": 16,
   "metadata": {},
   "outputs": [],
   "source": [
    "# Строим нейронную сеть прямой передачи сигнала. На входном слое 4 нейрона. relu - функция  позволит учесть наличие линейнносоти в исходных данных. На втором слое выбирем 1 нейрон используя сигмоидальную функцию. \n",
    "cnn = Sequential()\n",
    "cnn.add(Dense(units = 4,  activation = 'relu', input_dim = 2))\n",
    "cnn.add(Dense(units = 1,  activation = 'sigmoid'))\n",
    "cnn.compile(optimizer = 'adam', loss = 'binary_crossentropy', metrics = ['accuracy'])"
   ]
  },
  {
   "cell_type": "code",
   "execution_count": 17,
   "metadata": {},
   "outputs": [
    {
     "name": "stdout",
     "output_type": "stream",
     "text": [
      "Epoch 1/100\n",
      "204/204 [==============================] - 0s 2ms/step - loss: 0.5876 - accuracy: 0.7555\n",
      "Epoch 2/100\n",
      "204/204 [==============================] - 0s 2ms/step - loss: 0.4633 - accuracy: 0.7978\n",
      "Epoch 3/100\n",
      "204/204 [==============================] - 0s 2ms/step - loss: 0.4144 - accuracy: 0.8107\n",
      "Epoch 4/100\n",
      "204/204 [==============================] - 0s 1ms/step - loss: 0.3939 - accuracy: 0.8186\n",
      "Epoch 5/100\n",
      "204/204 [==============================] - 0s 1ms/step - loss: 0.3841 - accuracy: 0.8192\n",
      "Epoch 6/100\n",
      "204/204 [==============================] - 0s 1ms/step - loss: 0.3771 - accuracy: 0.8284\n",
      "Epoch 7/100\n",
      "204/204 [==============================] - 0s 906us/step - loss: 0.3708 - accuracy: 0.8395\n",
      "Epoch 8/100\n",
      "204/204 [==============================] - 0s 1ms/step - loss: 0.3658 - accuracy: 0.8480\n",
      "Epoch 9/100\n",
      "204/204 [==============================] - 0s 1ms/step - loss: 0.3624 - accuracy: 0.8493\n",
      "Epoch 10/100\n",
      "204/204 [==============================] - 0s 1ms/step - loss: 0.3600 - accuracy: 0.8505\n",
      "Epoch 11/100\n",
      "204/204 [==============================] - 0s 1ms/step - loss: 0.3585 - accuracy: 0.8560\n",
      "Epoch 12/100\n",
      "204/204 [==============================] - 0s 1ms/step - loss: 0.3574 - accuracy: 0.8542\n",
      "Epoch 13/100\n",
      "204/204 [==============================] - 0s 911us/step - loss: 0.3565 - accuracy: 0.8529\n",
      "Epoch 14/100\n",
      "204/204 [==============================] - 0s 931us/step - loss: 0.3558 - accuracy: 0.8517\n",
      "Epoch 15/100\n",
      "204/204 [==============================] - 0s 1ms/step - loss: 0.3553 - accuracy: 0.8529\n",
      "Epoch 16/100\n",
      "204/204 [==============================] - 0s 1ms/step - loss: 0.3548 - accuracy: 0.8548\n",
      "Epoch 17/100\n",
      "204/204 [==============================] - 0s 1ms/step - loss: 0.3544 - accuracy: 0.8529\n",
      "Epoch 18/100\n",
      "204/204 [==============================] - 0s 1ms/step - loss: 0.3539 - accuracy: 0.8517\n",
      "Epoch 19/100\n",
      "204/204 [==============================] - 0s 970us/step - loss: 0.3537 - accuracy: 0.8548\n",
      "Epoch 20/100\n",
      "204/204 [==============================] - 0s 1ms/step - loss: 0.3533 - accuracy: 0.8529\n",
      "Epoch 21/100\n",
      "204/204 [==============================] - 0s 1ms/step - loss: 0.3531 - accuracy: 0.8542\n",
      "Epoch 22/100\n",
      "204/204 [==============================] - 0s 1ms/step - loss: 0.3527 - accuracy: 0.8523\n",
      "Epoch 23/100\n",
      "204/204 [==============================] - 0s 1ms/step - loss: 0.3524 - accuracy: 0.8529\n",
      "Epoch 24/100\n",
      "204/204 [==============================] - 0s 1ms/step - loss: 0.3520 - accuracy: 0.8548\n",
      "Epoch 25/100\n",
      "204/204 [==============================] - 0s 1ms/step - loss: 0.3517 - accuracy: 0.8517\n",
      "Epoch 26/100\n",
      "204/204 [==============================] - 0s 1ms/step - loss: 0.3516 - accuracy: 0.8529\n",
      "Epoch 27/100\n",
      "204/204 [==============================] - 0s 1ms/step - loss: 0.3513 - accuracy: 0.8548\n",
      "Epoch 28/100\n",
      "204/204 [==============================] - 0s 1ms/step - loss: 0.3510 - accuracy: 0.8523\n",
      "Epoch 29/100\n",
      "204/204 [==============================] - 0s 1ms/step - loss: 0.3507 - accuracy: 0.8542\n",
      "Epoch 30/100\n",
      "204/204 [==============================] - 0s 1ms/step - loss: 0.3506 - accuracy: 0.8523\n",
      "Epoch 31/100\n",
      "204/204 [==============================] - 0s 1ms/step - loss: 0.3501 - accuracy: 0.8523\n",
      "Epoch 32/100\n",
      "204/204 [==============================] - 0s 1ms/step - loss: 0.3498 - accuracy: 0.8560\n",
      "Epoch 33/100\n",
      "204/204 [==============================] - 0s 1ms/step - loss: 0.3497 - accuracy: 0.8529\n",
      "Epoch 34/100\n",
      "204/204 [==============================] - 0s 1ms/step - loss: 0.3496 - accuracy: 0.8542\n",
      "Epoch 35/100\n",
      "204/204 [==============================] - 0s 1ms/step - loss: 0.3492 - accuracy: 0.8517\n",
      "Epoch 36/100\n",
      "204/204 [==============================] - 0s 1ms/step - loss: 0.3490 - accuracy: 0.8517\n",
      "Epoch 37/100\n",
      "204/204 [==============================] - 0s 1ms/step - loss: 0.3486 - accuracy: 0.8536\n",
      "Epoch 38/100\n",
      "204/204 [==============================] - 0s 1ms/step - loss: 0.3484 - accuracy: 0.8517\n",
      "Epoch 39/100\n",
      "204/204 [==============================] - 0s 1ms/step - loss: 0.3482 - accuracy: 0.8523\n",
      "Epoch 40/100\n",
      "204/204 [==============================] - 0s 1ms/step - loss: 0.3479 - accuracy: 0.8536\n",
      "Epoch 41/100\n",
      "204/204 [==============================] - 0s 1ms/step - loss: 0.3479 - accuracy: 0.8548\n",
      "Epoch 42/100\n",
      "204/204 [==============================] - 0s 1ms/step - loss: 0.3477 - accuracy: 0.8529\n",
      "Epoch 43/100\n",
      "204/204 [==============================] - 0s 1ms/step - loss: 0.3475 - accuracy: 0.8548\n",
      "Epoch 44/100\n",
      "204/204 [==============================] - 0s 1ms/step - loss: 0.3473 - accuracy: 0.8542\n",
      "Epoch 45/100\n",
      "204/204 [==============================] - 0s 1ms/step - loss: 0.3472 - accuracy: 0.8536\n",
      "Epoch 46/100\n",
      "204/204 [==============================] - 0s 1ms/step - loss: 0.3470 - accuracy: 0.8542\n",
      "Epoch 47/100\n",
      "204/204 [==============================] - 0s 1ms/step - loss: 0.3469 - accuracy: 0.8517\n",
      "Epoch 48/100\n",
      "204/204 [==============================] - 0s 1ms/step - loss: 0.3467 - accuracy: 0.8566\n",
      "Epoch 49/100\n",
      "204/204 [==============================] - 0s 1ms/step - loss: 0.3467 - accuracy: 0.8566\n",
      "Epoch 50/100\n",
      "204/204 [==============================] - 0s 1ms/step - loss: 0.3464 - accuracy: 0.8536\n",
      "Epoch 51/100\n",
      "204/204 [==============================] - 0s 1ms/step - loss: 0.3464 - accuracy: 0.8536\n",
      "Epoch 52/100\n",
      "204/204 [==============================] - 0s 1ms/step - loss: 0.3462 - accuracy: 0.8536\n",
      "Epoch 53/100\n",
      "204/204 [==============================] - 0s 2ms/step - loss: 0.3462 - accuracy: 0.8548\n",
      "Epoch 54/100\n",
      "204/204 [==============================] - 0s 2ms/step - loss: 0.3459 - accuracy: 0.8548\n",
      "Epoch 55/100\n",
      "204/204 [==============================] - 0s 2ms/step - loss: 0.3458 - accuracy: 0.8529\n",
      "Epoch 56/100\n",
      "204/204 [==============================] - 0s 2ms/step - loss: 0.3456 - accuracy: 0.8548\n",
      "Epoch 57/100\n",
      "204/204 [==============================] - 0s 2ms/step - loss: 0.3456 - accuracy: 0.8529\n",
      "Epoch 58/100\n",
      "204/204 [==============================] - 0s 2ms/step - loss: 0.3454 - accuracy: 0.8554\n",
      "Epoch 59/100\n",
      "204/204 [==============================] - 0s 1ms/step - loss: 0.3453 - accuracy: 0.8554\n",
      "Epoch 60/100\n",
      "204/204 [==============================] - 0s 2ms/step - loss: 0.3454 - accuracy: 0.8542\n",
      "Epoch 61/100\n",
      "204/204 [==============================] - 0s 2ms/step - loss: 0.3453 - accuracy: 0.8548\n",
      "Epoch 62/100\n",
      "204/204 [==============================] - 0s 2ms/step - loss: 0.3450 - accuracy: 0.8554\n",
      "Epoch 63/100\n",
      "204/204 [==============================] - 0s 2ms/step - loss: 0.3449 - accuracy: 0.8554\n",
      "Epoch 64/100\n",
      "204/204 [==============================] - 0s 1ms/step - loss: 0.3447 - accuracy: 0.8548\n",
      "Epoch 65/100\n",
      "204/204 [==============================] - 0s 1ms/step - loss: 0.3447 - accuracy: 0.8542\n",
      "Epoch 66/100\n",
      "204/204 [==============================] - 0s 1ms/step - loss: 0.3446 - accuracy: 0.8560\n",
      "Epoch 67/100\n",
      "204/204 [==============================] - 0s 1ms/step - loss: 0.3445 - accuracy: 0.8566\n",
      "Epoch 68/100\n",
      "204/204 [==============================] - 0s 1ms/step - loss: 0.3445 - accuracy: 0.8548\n",
      "Epoch 69/100\n",
      "204/204 [==============================] - 0s 2ms/step - loss: 0.3444 - accuracy: 0.8554\n",
      "Epoch 70/100\n",
      "204/204 [==============================] - 0s 1ms/step - loss: 0.3443 - accuracy: 0.8548\n",
      "Epoch 71/100\n",
      "204/204 [==============================] - 0s 1ms/step - loss: 0.3442 - accuracy: 0.8536\n",
      "Epoch 72/100\n",
      "204/204 [==============================] - 0s 1ms/step - loss: 0.3442 - accuracy: 0.8554\n",
      "Epoch 73/100\n",
      "204/204 [==============================] - 0s 1ms/step - loss: 0.3441 - accuracy: 0.8572\n",
      "Epoch 74/100\n",
      "204/204 [==============================] - ETA: 0s - loss: 0.3444 - accuracy: 0.85 - 0s 1ms/step - loss: 0.3441 - accuracy: 0.8554\n",
      "Epoch 75/100\n",
      "204/204 [==============================] - 0s 1ms/step - loss: 0.3440 - accuracy: 0.8566\n",
      "Epoch 76/100\n",
      "204/204 [==============================] - 0s 1ms/step - loss: 0.3440 - accuracy: 0.8548\n",
      "Epoch 77/100\n",
      "204/204 [==============================] - 0s 1ms/step - loss: 0.3439 - accuracy: 0.8554\n",
      "Epoch 78/100\n",
      "204/204 [==============================] - 0s 1ms/step - loss: 0.3438 - accuracy: 0.8560\n",
      "Epoch 79/100\n",
      "204/204 [==============================] - 0s 1ms/step - loss: 0.3437 - accuracy: 0.8560\n",
      "Epoch 80/100\n"
     ]
    },
    {
     "name": "stdout",
     "output_type": "stream",
     "text": [
      "204/204 [==============================] - 0s 1ms/step - loss: 0.3438 - accuracy: 0.8560\n",
      "Epoch 81/100\n",
      "204/204 [==============================] - 0s 1ms/step - loss: 0.3438 - accuracy: 0.8566\n",
      "Epoch 82/100\n",
      "204/204 [==============================] - 0s 1ms/step - loss: 0.3437 - accuracy: 0.8560\n",
      "Epoch 83/100\n",
      "204/204 [==============================] - ETA: 0s - loss: 0.3432 - accuracy: 0.85 - 0s 1ms/step - loss: 0.3437 - accuracy: 0.8554\n",
      "Epoch 84/100\n",
      "204/204 [==============================] - 0s 1ms/step - loss: 0.3436 - accuracy: 0.8572\n",
      "Epoch 85/100\n",
      "204/204 [==============================] - 0s 1ms/step - loss: 0.3436 - accuracy: 0.8566\n",
      "Epoch 86/100\n",
      "204/204 [==============================] - 0s 1ms/step - loss: 0.3434 - accuracy: 0.8566\n",
      "Epoch 87/100\n",
      "204/204 [==============================] - 0s 1ms/step - loss: 0.3434 - accuracy: 0.8578\n",
      "Epoch 88/100\n",
      "204/204 [==============================] - 0s 1ms/step - loss: 0.3434 - accuracy: 0.8542\n",
      "Epoch 89/100\n",
      "204/204 [==============================] - 0s 1ms/step - loss: 0.3434 - accuracy: 0.8572\n",
      "Epoch 90/100\n",
      "204/204 [==============================] - 0s 1ms/step - loss: 0.3434 - accuracy: 0.8578\n",
      "Epoch 91/100\n",
      "204/204 [==============================] - 0s 2ms/step - loss: 0.3433 - accuracy: 0.8566\n",
      "Epoch 92/100\n",
      "204/204 [==============================] - 0s 1ms/step - loss: 0.3433 - accuracy: 0.8572\n",
      "Epoch 93/100\n",
      "204/204 [==============================] - 0s 1ms/step - loss: 0.3433 - accuracy: 0.8566\n",
      "Epoch 94/100\n",
      "204/204 [==============================] - 0s 1ms/step - loss: 0.3432 - accuracy: 0.8572\n",
      "Epoch 95/100\n",
      "204/204 [==============================] - 0s 1ms/step - loss: 0.3435 - accuracy: 0.8572\n",
      "Epoch 96/100\n",
      "204/204 [==============================] - 0s 1ms/step - loss: 0.3433 - accuracy: 0.8585\n",
      "Epoch 97/100\n",
      "204/204 [==============================] - 0s 1ms/step - loss: 0.3432 - accuracy: 0.8578\n",
      "Epoch 98/100\n",
      "204/204 [==============================] - 0s 1ms/step - loss: 0.3434 - accuracy: 0.8560\n",
      "Epoch 99/100\n",
      "204/204 [==============================] - 0s 1ms/step - loss: 0.3432 - accuracy: 0.8566\n",
      "Epoch 100/100\n",
      "204/204 [==============================] - 0s 1ms/step - loss: 0.3432 - accuracy: 0.8572\n"
     ]
    },
    {
     "data": {
      "text/plain": [
       "<tensorflow.python.keras.callbacks.History at 0x21c26bc9310>"
      ]
     },
     "execution_count": 17,
     "metadata": {},
     "output_type": "execute_result"
    }
   ],
   "source": [
    "# Обучаем нейронную сеть в течении 100 эпох.\n",
    "cnn.fit(X_train, y_train, epochs = 100, batch_size = 8)"
   ]
  },
  {
   "cell_type": "code",
   "execution_count": 26,
   "metadata": {},
   "outputs": [],
   "source": [
    "# Строим прогноз на тестовой выборке.\n",
    "y_pred = cnn.predict(X_test)\n",
    "y_pred = (y_pred > 0.7)"
   ]
  },
  {
   "cell_type": "code",
   "execution_count": 27,
   "metadata": {},
   "outputs": [
    {
     "name": "stdout",
     "output_type": "stream",
     "text": [
      "[[326   6]\n",
      " [ 47  29]]\n"
     ]
    }
   ],
   "source": [
    "# Строим таблицу сопряженности. Исходя из этого  47 положительных случая ложно определены как отрицательные и 6 негативных исходов определены как отрицательные. Всего модель распознала 355 объектоd верно. Как видим нейронна сеть показывает примерно такие же результаты.\n",
    "from sklearn.metrics import confusion_matrix\n",
    "cm = confusion_matrix(y_test, y_pred)\n",
    "print(cm)"
   ]
  },
  {
   "cell_type": "code",
   "execution_count": 20,
   "metadata": {},
   "outputs": [
    {
     "name": "stderr",
     "output_type": "stream",
     "text": [
      "*c* argument looks like a single numeric RGB or RGBA sequence, which should be avoided as value-mapping will have precedence in case its length matches with *x* & *y*.  Please use the *color* keyword-argument or provide a 2-D array with a single row if you intend to specify the same RGB or RGBA value for all points.\n",
      "*c* argument looks like a single numeric RGB or RGBA sequence, which should be avoided as value-mapping will have precedence in case its length matches with *x* & *y*.  Please use the *color* keyword-argument or provide a 2-D array with a single row if you intend to specify the same RGB or RGBA value for all points.\n"
     ]
    },
    {
     "data": {
      "image/png": "[encoded data removed]",
      "text/plain": [
       "<Figure size 432x288 with 1 Axes>"
      ]
     },
     "metadata": {
      "needs_background": "light"
     },
     "output_type": "display_data"
    }
   ],
   "source": [
    "# Строим область значений. Они отделяются  не линейно. Однако после усложения модели после увеличения входных нейронов с 2 до 4, качество модели улучшилось. \n",
    "from matplotlib.colors import ListedColormap\n",
    "X_set, y_set = X_test, y_test\n",
    "X1, X2 = np.meshgrid(np.arange(start = X_set[:, 0].min() - 1, stop = X_set[:, 0].max() + 1, step = 0.01),\n",
    "                     np.arange(start = X_set[:, 1].min() - 1, stop = X_set[:, 1].max() + 1, step = 0.01))\n",
    "plt.contourf(X1, X2, cnn.predict(np.array([X1.ravel(), X2.ravel()]).T).reshape(X1.shape),\n",
    "             alpha = 0.75, cmap = ListedColormap(('red', 'green')))\n",
    "plt.xlim(X1.min(), X1.max())\n",
    "plt.ylim(X2.min(), X2.max())\n",
    "for i, j in enumerate(np.unique(y_set)):\n",
    "    plt.scatter(X_set[y_set == j, 0], X_set[y_set == j, 1],\n",
    "                c = ListedColormap(('red', 'green'))(i), label = j)\n",
    "plt.title('NN (Test set)')\n",
    "plt.xlabel('exp')\n",
    "plt.ylabel('cheap')\n",
    "plt.legend()\n",
    "plt.show()"
   ]
  },
  {
   "cell_type": "code",
   "execution_count": 21,
   "metadata": {},
   "outputs": [],
   "source": [
    "# Выводы. Исходя из анализа можно сделать вывод, что исходная логистическая модель обладает высоким качеством точности и определяет 84% объектов верно. Еще я бы отметил, что позитивные и негативные значения отделяются линейно. Эту линейность мы используем для построения нейронной сети. При использовании стандартных параметров мы получаем качество модели немного лучше, но при этом сохраняется линейность отделения позитивных от негативных. Для улучшения качества модели было принято решение увеличить количество нейронов на первом слое с 2 до 4, что позволило немного улучшить качество модели в целом, однако разделение положительных от отрицательных более не линейно."
   ]
  }
 ],
 "metadata": {
  "kernelspec": {
   "display_name": "Python 3",
   "language": "python",
   "name": "python3"
  },
  "language_info": {
   "codemirror_mode": {
    "name": "ipython",
    "version": 3
   },
   "file_extension": ".py",
   "mimetype": "text/x-python",
   "name": "python",
   "nbconvert_exporter": "python",
   "pygments_lexer": "ipython3",
   "version": "3.8.3"
  }
 },
 "nbformat": 4,
 "nbformat_minor": 4
}
